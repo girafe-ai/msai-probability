{
 "cells": [
  {
   "cell_type": "markdown",
   "id": "ed2cd65f",
   "metadata": {
    "slideshow": {
     "slide_type": "slide"
    }
   },
   "source": [
    "# Seminar 1"
   ]
  },
  {
   "cell_type": "markdown",
   "id": "632282a7",
   "metadata": {
    "slideshow": {
     "slide_type": "slide"
    }
   },
   "source": [
    "## Let's get to know each other"
   ]
  },
  {
   "cell_type": "markdown",
   "id": "5756efe3",
   "metadata": {
    "slideshow": {
     "slide_type": "slide"
    }
   },
   "source": [
    "## Counting"
   ]
  },
  {
   "cell_type": "markdown",
   "id": "19acb677",
   "metadata": {
    "slideshow": {
     "slide_type": "slide"
    }
   },
   "source": [
    "### Problem 1\n",
    "How many Russian-style car plates are possible in one region?"
   ]
  },
  {
   "cell_type": "markdown",
   "id": "6320db58",
   "metadata": {
    "slideshow": {
     "slide_type": "slide"
    }
   },
   "source": [
    "### Solution\n",
    "\n",
    "Russain car plate consists of three letters and three digits. Any digits are permitted, but the only permitted letters are the ones that have English-lookalikes. How many letters are there?"
   ]
  },
  {
   "cell_type": "markdown",
   "id": "c262061b",
   "metadata": {
    "slideshow": {
     "slide_type": "fragment"
    }
   },
   "source": [
    "A, B, C, E, H, K, M, O, P, T, X, Y - total 12 letters."
   ]
  },
  {
   "cell_type": "markdown",
   "id": "85e5d53b",
   "metadata": {
    "slideshow": {
     "slide_type": "fragment"
    }
   },
   "source": [
    "We choose the digits and the letters. Using sampling with replacement (why?):\n",
    "- We choose three of ten digits: $10^3$\n",
    "- We choose three of twelve letters: $12^3$\n",
    "\n",
    "Since the choice of the digits and the letters is independent, the total number of plates is therefore $10^3 \\cdot 12^3 = 1728000$."
   ]
  },
  {
   "cell_type": "markdown",
   "id": "8913f59a",
   "metadata": {
    "slideshow": {
     "slide_type": "slide"
    }
   },
   "source": [
    "### Problem 2\n",
    "How many 7-digit phone numbers are possible, assuming that the first digit can’t be a 0 or a 1?"
   ]
  },
  {
   "cell_type": "markdown",
   "id": "0d8962e6",
   "metadata": {
    "slideshow": {
     "slide_type": "slide"
    }
   },
   "source": [
    "### Solution\n",
    "\n",
    "We independently choose each digit. Using sampling with replacement (why?):\n",
    "- We choose the first digit from reduced set of 8 digits: $8$\n",
    "- We choose the rest 6 digits: $10^6$\n",
    "\n",
    "The total number of phone numbers is therefore $8 \\cdot 10^6$."
   ]
  },
  {
   "cell_type": "markdown",
   "id": "182aa1e5",
   "metadata": {
    "slideshow": {
     "slide_type": "slide"
    }
   },
   "source": [
    "### Problem 3\n",
    "How many paths are there from the point (0,0) to the point (110,111) in the plane such that each step either consists of going one unit up or one unit to the right?"
   ]
  },
  {
   "cell_type": "markdown",
   "id": "cf05e84b",
   "metadata": {
    "slideshow": {
     "slide_type": "slide"
    }
   },
   "source": [
    "### Solution\n",
    "\n",
    "We will encode a path as a sequence of letters $U$ (for up step) and $R$ (for right step), like $URURURU\\ldots UURUR$.\n",
    "\n",
    "The sequence must consist of 110 $R$s and 111 $U$s (why?)"
   ]
  },
  {
   "cell_type": "markdown",
   "id": "c5bbb80d",
   "metadata": {
    "slideshow": {
     "slide_type": "fragment"
    }
   },
   "source": [
    "We will use the factorial rule: the number of shuffles of this sequence is $(110+111)! = 221!$. Is it correct?"
   ]
  },
  {
   "cell_type": "markdown",
   "id": "09d469d4",
   "metadata": {
    "slideshow": {
     "slide_type": "fragment"
    }
   },
   "source": [
    "It is not correct, because we do not care about individual permutations of $R$s and $U$s, but we counted these permutations as different. We need to adjust for overcounting.\n",
    "\n",
    "We need to get rid of permutations that we counted multiple times. In order to do that, we divide byy the number of such permutations, and this gives the correct answer:\n",
    "\n",
    "$$\\frac{221!}{110!111!}$$"
   ]
  },
  {
   "cell_type": "markdown",
   "id": "e15dda8a",
   "metadata": {
    "slideshow": {
     "slide_type": "slide"
    }
   },
   "source": [
    "### Binomial coefficient\n",
    "A binomial coefficient counts the number of subsets of a certain size for a set, such as the number of ways to choose a committee of size $k$ from a set of $n$ people. Sets and subsets are by definition unordered, e.g., $\\{3, 1, 4\\} = \\{4, 1, 3\\}$, so we are counting the number of ways to choose $k$ objects out of $n$, without replacement and without distinguishing between the different orders in which they could be chosen.\n",
    "\n",
    "For any nonnegative integers $k$ and $n$, the binomial coefficient $\\begin{pmatrix}n\\\\k\\end{pmatrix}$, read as \"$n$ choose $k$\", is the number of subsets of size $k$ for a set of size $n$. For $ k \\leqslant n$,\n",
    "\n",
    "$$\n",
    "\\begin{pmatrix}n\\\\k\\end{pmatrix}=\\frac{n!}{k!(n-k)!}\n",
    "$$"
   ]
  },
  {
   "cell_type": "markdown",
   "id": "43ad8ad1",
   "metadata": {
    "slideshow": {
     "slide_type": "fragment"
    }
   },
   "source": [
    "Note that to fully describe the sequence we actually only need to specify where the $R$s are located. This falls under binomial coefficient definition. So there are $\\begin{pmatrix}110+111\\\\110\\end{pmatrix}$ possible paths."
   ]
  },
  {
   "cell_type": "markdown",
   "id": "8e3b937b",
   "metadata": {
    "slideshow": {
     "slide_type": "slide"
    }
   },
   "source": [
    "### Problem 3\n",
    "How many ways are there to split a dozen people into 3 teams, where each team has 4 people?"
   ]
  },
  {
   "cell_type": "markdown",
   "id": "1d70cd45",
   "metadata": {
    "slideshow": {
     "slide_type": "slide"
    }
   },
   "source": [
    "### Solution\n",
    "\n",
    "Let's randomly pick the first team, then randomly pick the second and claim the remaining people the third team.\n",
    "\n",
    "This gives us $\\begin{pmatrix}12\\\\4\\end{pmatrix}\\cdot\\begin{pmatrix}8\\\\4\\end{pmatrix}$ possibilities. Is it correct?"
   ]
  },
  {
   "cell_type": "markdown",
   "id": "7c0b75a6",
   "metadata": {
    "slideshow": {
     "slide_type": "fragment"
    }
   },
   "source": [
    "It is not correct, because we overcounted due the fact that we do not actually care which team is the first, second or third. So we need to divide the expression by $3!$. The final answer is:\n",
    "\n",
    "$$\n",
    "\\frac{1}{3!} \\cdot \\begin{pmatrix}12\\\\4\\end{pmatrix}\\cdot\\begin{pmatrix}8\\\\4\\end{pmatrix} = \\frac{1}{3!} \\cdot \\frac{12!}{4!8!} \\cdot \\frac{8!}{4!4!} = \\frac{12!}{4! 4! 4! 3!}\n",
    "$$"
   ]
  },
  {
   "cell_type": "markdown",
   "id": "8cd47068",
   "metadata": {
    "slideshow": {
     "slide_type": "fragment"
    }
   },
   "source": [
    "If we cared which team is which, we would obtain $\\frac{12!}{4! 4! 4!}$, which is called a multinomial coefficient. The only difference is that we choose more than one subset from one total."
   ]
  },
  {
   "cell_type": "markdown",
   "id": "3f3c4caa",
   "metadata": {
    "slideshow": {
     "slide_type": "slide"
    }
   },
   "source": [
    "### Problem 5\n",
    "A certain casino uses 10 standard decks of cards mixed together into one big deck, which we will call a superdeck. Thus, the superdeck has 52 · 10 = 520 cards, with 10 copies of each card. How many different 10-card hands can be dealt from the superdeck? The order of the cards does not matter, nor does it matter which of the original 10 decks the cards came from. Express your answer as a binomial coefficient."
   ]
  },
  {
   "cell_type": "markdown",
   "id": "1172a6f5",
   "metadata": {
    "slideshow": {
     "slide_type": "fragment"
    }
   },
   "source": [
    "### Solution\n",
    "\n",
    "Since we have 10 copies of each card, there are in fact no limitations on the hand and sampling from superdeck without replacement is equivalent to sampling from deck with replacement. So we just use the formula for sampling with replacement where the order matters:\n",
    "$$\n",
    "\\begin{pmatrix}52+10-1\\\\10\\end{pmatrix}\n",
    "$$"
   ]
  },
  {
   "cell_type": "markdown",
   "id": "bfae1a78",
   "metadata": {
    "slideshow": {
     "slide_type": "slide"
    }
   },
   "source": [
    "## Naive definition"
   ]
  },
  {
   "cell_type": "markdown",
   "id": "fc86e8db",
   "metadata": {
    "slideshow": {
     "slide_type": "slide"
    }
   },
   "source": [
    "### Problem 7\n",
    "A city with 6 districts has 6 robberies in a particular week. Assume the robberies are located randomly, with all possibilities for which robbery occurred where equally likely. What is the probability that some district had more than 1 robbery?"
   ]
  },
  {
   "cell_type": "markdown",
   "id": "cf105e4e",
   "metadata": {
    "slideshow": {
     "slide_type": "slide"
    }
   },
   "source": [
    "### Solution\n",
    "\n",
    "We will compute the probability of the complement.\n",
    "\n",
    "- All cases: There are $6^6$ possible configurations for which robbery occurred where.\n",
    "- Favorable cases: There are $6!$ configurations where each district had exactly 1 of the 6.\n",
    "\n",
    "So the probability of the complement of the desired event is $6!/6^6$.\n",
    "\n",
    "Finally, the probability of some district having more than 1 robbery is $1 - 6!/6^6$."
   ]
  },
  {
   "cell_type": "code",
   "execution_count": 1,
   "id": "5dc1948a",
   "metadata": {
    "slideshow": {
     "slide_type": "slide"
    }
   },
   "outputs": [
    {
     "data": {
      "text/plain": [
       "0.9845679012345679"
      ]
     },
     "execution_count": 1,
     "metadata": {},
     "output_type": "execute_result"
    }
   ],
   "source": [
    "from scipy.special import factorial\n",
    "1 - factorial(6) / (6 ** 6)"
   ]
  },
  {
   "cell_type": "markdown",
   "id": "beacaf6b",
   "metadata": {
    "slideshow": {
     "slide_type": "slide"
    }
   },
   "source": [
    "### Problem 8\n",
    "Each of $n$ balls is independently placed into one of $n$ boxes, with all boxes equally likely.\n",
    "What is the probability that exactly one box is empty?"
   ]
  },
  {
   "cell_type": "markdown",
   "id": "171b4cea",
   "metadata": {
    "slideshow": {
     "slide_type": "slide"
    }
   },
   "source": [
    "### Solution\n",
    "\n",
    "Reformulate: one box empty means one box has two balls.\n",
    "\n",
    "- All cases: $n^n$ (why?)\n",
    "- Favorable cases:\n",
    "    - Choose empty box: $\\begin{pmatrix}n\\\\1\\end{pmatrix}$\n",
    "    - Choose box with two balls: $\\begin{pmatrix}n-1\\\\1\\end{pmatrix}$\n",
    "    - Choose two balls: $\\begin{pmatrix}n\\\\2\\end{pmatrix}$\n",
    "    - Permutations of the rest balls: $(n-2)!$\n",
    "    \n",
    "Overall:\n",
    "$$\n",
    "\\frac{\\begin{pmatrix}n\\\\1\\end{pmatrix}\\begin{pmatrix}n-1\\\\1\\end{pmatrix}\\begin{pmatrix}n\\\\2\\end{pmatrix}(n-2)!}{n^n} = \\frac{\\begin{pmatrix}n\\\\2\\end{pmatrix} n!}{n^n}\n",
    "$$"
   ]
  },
  {
   "cell_type": "markdown",
   "id": "ff01ba29",
   "metadata": {
    "slideshow": {
     "slide_type": "slide"
    }
   },
   "source": [
    "## Non-naive definition"
   ]
  },
  {
   "cell_type": "markdown",
   "id": "245a4685",
   "metadata": {
    "slideshow": {
     "slide_type": "slide"
    }
   },
   "source": [
    "### Definition\n",
    "\n",
    "A probability space consists of a sample space $S$ and a probability function $P$ which takes an event $A \\subseteq S$ as input and returns $P(A)$, a real number between $0$ and $1$, as output. The function $P$ must satisfy the following axioms:\n",
    "- $P(\\varnothing) = 0, P(S) = 1$\n",
    "- If $A1, A2, \\ldots$ are disjoint ($A_i \\cap A_j = \\varnothing, i \\neq j$) events, then\n",
    "    $$\n",
    "    P\\left(\\bigcup\\limits_{j=1}^\\infty A_j\\right) = \\sum\\limits_{j=1}^\\infty P(A_j)\n",
    "    $$"
   ]
  },
  {
   "cell_type": "markdown",
   "id": "0eb7c712",
   "metadata": {
    "slideshow": {
     "slide_type": "slide"
    }
   },
   "source": [
    "### Properties\n",
    "\n",
    "1. $P(A^c) = 1 − P(A)$\n",
    "2. If $A \\subseteq B$, then $P(A) \\leqslant P(B)$\n",
    "3. $P (A \\cup B) = P (A) + P (B) − P (A \\cap B)$"
   ]
  },
  {
   "cell_type": "markdown",
   "id": "36e2e51e",
   "metadata": {
    "slideshow": {
     "slide_type": "slide"
    }
   },
   "source": [
    "### Inclusion-exclusion formula\n",
    "\n",
    "$$P (A \\cup B) = P (A) + P (B) − P (A \\cap B)$$"
   ]
  },
  {
   "cell_type": "markdown",
   "id": "7c5cd08c",
   "metadata": {
    "slideshow": {
     "slide_type": "fragment"
    }
   },
   "source": [
    "$$P\\left(\\bigcup\\limits_{i=1}^n A_i\\right) = \\sum_i P(A_i) − \\sum_{i < j} P(A_i \\cap A_j) + \\sum_{i < j < k}P(A_i \\cap A_j \\cap A_k)−\\ldots+(−1)^{n+1} P(A_1 \\cap\\ldots \\cap A_n)$$"
   ]
  },
  {
   "cell_type": "code",
   "execution_count": 4,
   "id": "237d7658",
   "metadata": {
    "slideshow": {
     "slide_type": "skip"
    }
   },
   "outputs": [],
   "source": [
    "from matplotlib_venn import venn2, venn3"
   ]
  },
  {
   "cell_type": "code",
   "execution_count": 3,
   "id": "9a01b5cf",
   "metadata": {
    "slideshow": {
     "slide_type": "skip"
    }
   },
   "outputs": [
    {
     "data": {
      "text/plain": [
       "<matplotlib_venn._common.VennDiagram at 0x12d67a970>"
      ]
     },
     "execution_count": 3,
     "metadata": {},
     "output_type": "execute_result"
    },
    {
     "data": {
      "image/png": "[encoded data removed]",
      "text/plain": [
       "<Figure size 432x288 with 1 Axes>"
      ]
     },
     "metadata": {},
     "output_type": "display_data"
    }
   ],
   "source": [
    "venn2(({'A', 'B', 'C'}, {'A', 'D', 'E'}))"
   ]
  },
  {
   "cell_type": "code",
   "execution_count": 6,
   "id": "4c3960ed",
   "metadata": {
    "slideshow": {
     "slide_type": "slide"
    }
   },
   "outputs": [
    {
     "data": {
      "text/plain": [
       "<matplotlib_venn._common.VennDiagram at 0x12d824850>"
      ]
     },
     "execution_count": 6,
     "metadata": {},
     "output_type": "execute_result"
    },
    {
     "data": {
      "image/png": "[encoded data removed]",
      "text/plain": [
       "<Figure size 432x288 with 1 Axes>"
      ]
     },
     "metadata": {},
     "output_type": "display_data"
    }
   ],
   "source": [
    "venn3(({'A', 'B', 'C'}, {'A', 'D', 'E'}, {'A', \"F\", \"G\"}))"
   ]
  },
  {
   "cell_type": "markdown",
   "id": "1dada35e",
   "metadata": {
    "slideshow": {
     "slide_type": "fragment"
    }
   },
   "source": [
    "$$(3+3+3)-(1+1+1)+1=9-3+1=7$$"
   ]
  },
  {
   "cell_type": "markdown",
   "id": "5da2e9e5",
   "metadata": {
    "slideshow": {
     "slide_type": "slide"
    }
   },
   "source": [
    "### Problem 9\n",
    "A fair dice is rolled $n$ times. What is the probability that at least 1 of the 6 values never appears?"
   ]
  },
  {
   "cell_type": "markdown",
   "id": "8ad48654",
   "metadata": {
    "slideshow": {
     "slide_type": "slide"
    }
   },
   "source": [
    "### Solution\n",
    "\n",
    "$A_i$ - the event that $i$-th value does not appear. Then, $\\bigcup\\limits_{i=1}^6 A_i$ is the event that at least one values does not appear.\n",
    "\n"
   ]
  }
 ],
 "metadata": {
  "celltoolbar": "Slideshow",
  "kernelspec": {
   "display_name": "Python 3 (ipykernel)",
   "language": "python",
   "name": "python3"
  },
  "language_info": {
   "codemirror_mode": {
    "name": "ipython",
    "version": 3
   },
   "file_extension": ".py",
   "mimetype": "text/x-python",
   "name": "python",
   "nbconvert_exporter": "python",
   "pygments_lexer": "ipython3",
   "version": "3.8.12"
  }
 },
 "nbformat": 4,
 "nbformat_minor": 5
}
