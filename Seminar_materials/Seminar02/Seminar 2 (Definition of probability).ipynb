{
 "cells": [
  {
   "cell_type": "markdown",
   "metadata": {
    "slideshow": {
     "slide_type": "slide"
    }
   },
   "source": [
    "# Seminar 2"
   ]
  },
  {
   "cell_type": "markdown",
   "metadata": {
    "slideshow": {
     "slide_type": "slide"
    }
   },
   "source": [
    "## Recap of counting and naive probability\n",
    "\n",
    "Sampling $k$ objects from $n$ choices:\n",
    "\n",
    "|With replacement|Order matters|Formula|Example|\n",
    "|:-:|:-:|:-:|:-:|\n",
    "|Yes|Yes|\\begin{eqnarray}n^k\\end{eqnarray}|Car plates|\n",
    "|Yes|No|\\begin{eqnarray}\\begin{pmatrix}n+k-1\\\\k\\end{pmatrix}\\end{eqnarray}|\"Stars and bars\"|\n",
    "|No|Yes|\\begin{eqnarray}\\lfloor n \\rfloor_k\\end{eqnarray}|Birthday paradox complement numerator|\n",
    "|No|No|\\begin{eqnarray}\\begin{pmatrix}n\\\\k\\end{pmatrix}\\end{eqnarray}|Bose-Einstein|\n",
    "\n",
    "Arranging $k$ objects into $n$ boxes:\n",
    "\n",
    "|With replacement|Objects distinguishable|Formula|\n",
    "|:-:|:-:|:-:|\n",
    "|Yes|Yes|\\begin{eqnarray}n^k\\end{eqnarray}|\n",
    "|Yes|No|\\begin{eqnarray}\\begin{pmatrix}n+k-1\\\\k\\end{pmatrix}\\end{eqnarray}|\n",
    "|No|Yes|\\begin{eqnarray}\\lfloor n \\rfloor_k\\end{eqnarray}|\n",
    "|No|No|\\begin{eqnarray}\\begin{pmatrix}n\\\\k\\end{pmatrix}\\end{eqnarray}|"
   ]
  },
  {
   "cell_type": "markdown",
   "metadata": {
    "slideshow": {
     "slide_type": "slide"
    }
   },
   "source": [
    "## Problem 1\n",
    "\n",
    "There are 15 chocolate bars and 10 children. In how many ways can the chocolate bars be distributed to the children, in each of the following scenarios?\n",
    "- The chocolate bars are fungible (interchangeable).\n",
    "- The chocolate bars are fungible, and each child must receive at least one.\n",
    "- The chocolate bars are not fungible (it matters which particular bar goes where).\n",
    "- The chocolate bars are not fungible, and each child must receive at least one. Hint: The strategy suggested in (b) does not apply. Instead, consider randomly giving the chocolate bars to the children, and apply inclusion-exclusion."
   ]
  },
  {
   "cell_type": "markdown",
   "metadata": {
    "slideshow": {
     "slide_type": "slide"
    }
   },
   "source": [
    "## Solution 1.1\n",
    "\n",
    "The chocolate bars are fungible (interchangeable). Since the children are interchangeable as well, we will be using \"stars and bars\":\n",
    "\n",
    "$$|\\underbrace{oo}_{\\text{child }1}|\\underbrace{o}_{\\text{child }2}|\\underbrace{o}_{\\text{child }3}|\\ldots|\\underbrace{o}_{\\text{child }10}|$$\n",
    "\n",
    "- We have $10-1=9$ bars (separators between children), because left- and right-most bars are fixed\n",
    "- We have $15$ stars (chocolates)\n",
    "- Total $9+15=24$ possible object positions\n",
    "\n",
    "Therefore, we have $\\begin{pmatrix}24\\\\9\\end{pmatrix}$ combinations."
   ]
  },
  {
   "cell_type": "markdown",
   "metadata": {
    "slideshow": {
     "slide_type": "subslide"
    }
   },
   "source": [
    "There is a different way to arrive at this answer: for each of 15 chocolate bars we are making a decision from 10 children with replacement. The formula from the lecture gives $\\begin{pmatrix}10+15-1\\\\15\\end{pmatrix}$, which is the same number."
   ]
  },
  {
   "cell_type": "markdown",
   "metadata": {
    "slideshow": {
     "slide_type": "slide"
    }
   },
   "source": [
    "## Solution 1.2\n",
    "\n",
    "\n",
    "The chocolate bars are fungible (interchangeable). Since the children are interchangeable as well, we will be using \"stars and bars\". Let's first lay out all the chocolate bars in a line:\n",
    "\n",
    "$$oooo\\ldots o$$\n",
    "\n",
    "Next, we need to put the boundaries into their possible positions, but now without replacement (so that boundaries do not coincide leaving a child without his chocolate bar)\n",
    "\n",
    "$$|\\underbrace{oo}_{\\text{child }1}|\\underbrace{o}_{\\text{child }2}|\\underbrace{o}_{\\text{child }3}|\\ldots|\\underbrace{o}_{\\text{child }10}|$$\n",
    "\n",
    "- We have $10-1=9$ bars (separators between children), because left- and right-most bars are fixed\n",
    "- We have $15-1=14$ stars (chocolates) i.e. object positions\n",
    "\n",
    "Sampling without replacement, we obtain $\\begin{pmatrix}14\\\\9\\end{pmatrix}$."
   ]
  },
  {
   "cell_type": "markdown",
   "metadata": {
    "slideshow": {
     "slide_type": "slide"
    }
   },
   "source": [
    "## Solution 1.3\n",
    "\n",
    "The chocolate bars are not fungible (it matters which particular bar goes where), but the children are still interchangeable. Can't use \"stars and bars\", though.\n",
    "\n",
    "For each of 15 chocolate bars we will be selecting one of 10 children who gets it, with replacement of children. The formula from the lecture gives us: $10^{15}$."
   ]
  },
  {
   "cell_type": "markdown",
   "metadata": {
    "slideshow": {
     "slide_type": "slide"
    }
   },
   "source": [
    "## Solution 1.4\n",
    "\n",
    "The chocolate bars are not fungible, and each child must receive at least one. The children are interchangeable. Can't use \"stars and bars\". Instead, let's apply inclusion-exclusion. From the previous subproblem, the number of all possible combinations is $10^{15} = \\begin{pmatrix}10\\\\0\\end{pmatrix} 10^{15}$.\n",
    "\n",
    "Next, let's count how many cases are there, when exactly one child has no chocolate bar. Denote $A_{i}$ the event that child $i$ does not get a chocolate bar. The number of such combinations is $N(A_i) = \\begin{pmatrix}10\\\\1\\end{pmatrix}9^{15}$.\n",
    "\n",
    "Next, let's count how many cases are there, when exactly two children have no chocolate bar: $N(A_i \\cap A_j) = \\begin{pmatrix}10\\\\2\\end{pmatrix}8^{15}$.\n",
    "\n",
    "See the pattern? Now we need to apply inclusion-exclusion formula. The final number of combinations is:\n",
    "$$\n",
    "\\sum_{k=0}^{10} (-1)^k \\begin{pmatrix}10\\\\k\\end{pmatrix} (10-k)^{15}\n",
    "$$"
   ]
  },
  {
   "cell_type": "markdown",
   "metadata": {
    "slideshow": {
     "slide_type": "slide"
    }
   },
   "source": [
    "## Problem 2\n",
    "\n",
    "What is the number of all subsets of a set with $N$ elements?"
   ]
  },
  {
   "cell_type": "markdown",
   "metadata": {
    "slideshow": {
     "slide_type": "slide"
    }
   },
   "source": [
    "## Solution 2\n",
    "\n",
    "Denote our set $A = \\{a_1, a_2, \\ldots, a_N\\}$. Now let's create a subset $B \\subset A$. For every element $a_i$, let's choose if we will include it into subset ($1$) or not ($0$). How many combinations of zeros and ones are there then?"
   ]
  },
  {
   "cell_type": "markdown",
   "metadata": {
    "slideshow": {
     "slide_type": "fragment"
    }
   },
   "source": [
    "Using ordered sampling with replacement, we obtain $2^N$ combinations."
   ]
  },
  {
   "cell_type": "markdown",
   "metadata": {
    "slideshow": {
     "slide_type": "slide"
    }
   },
   "source": [
    "## Problem 3\n",
    "\n",
    "There are 100 passengers lined up to board an airplane with 100 seats (with each seat assigned to one of the passengers). The first passenger in line crazily decides to sit in a randomly chosen seat (with all seats equally likely). Each subsequent passenger takes their assigned seat if available, and otherwise sits in a random available seat. What is the probability that the last passenger in line gets to sit in their assigned seat?"
   ]
  },
  {
   "cell_type": "markdown",
   "metadata": {
    "slideshow": {
     "slide_type": "slide"
    }
   },
   "source": [
    "## Solution 3\n",
    "\n",
    "Denote $i$-th passenger true seat as $i$, regardless of its position in the plane.\n",
    "\n",
    "Next, notice that if any passenger $j$ sits into seat $1$, it means that his place $j$ is taken. Such case therefore removes the source of permutation. After that, all the passengers that enter the plane will be able to sit in their true seats. It is important that it always happens and can happen with any passenger $j$.\n",
    "\n",
    "Generally, the last $100$-th passenger may observe two cases:\n",
    "- The premutation was removed, then he has the option to sit into his true $100$-th seat\n",
    "- The permutation was not removed, then he is the one to remove the permutation and take seat $1$.\n",
    "\n",
    "We can now reduce the problem to just two seats: $1$-st and $100$-th. One of the passengers seating on these seats is the last $100$-th passenger, the other is any other passenger $j$."
   ]
  },
  {
   "cell_type": "markdown",
   "metadata": {
    "slideshow": {
     "slide_type": "subslide"
    }
   },
   "source": [
    "Since $j<100$, it means that both $1$-st and $100$-th seats were empty when he or she boarded the plane! And the probabilities to sit in any of them is equal.\n",
    "\n",
    "If $j$ sat in $1$ then the last passenger ended up sitting in $100$ and the resulting configuration of passengers sitting in the 100 seats is the same as if $j$ had sat in $100$ except for the fact that the passengers in $1$ and $100$ are swapped. Therefore these two configurations occur with the same probability and exactly one of them has the last passenger in her seat $100$.\n",
    "\n",
    "This implies that all the final configurations of passengers can be paired such that the two configurations in any pair occur with the same probability and exactly one has the last passenger in her seat.\n",
    "\n",
    "This implies that the probability that the last passenger is in her seat is $0.5$."
   ]
  },
  {
   "cell_type": "markdown",
   "metadata": {
    "slideshow": {
     "slide_type": "slide"
    }
   },
   "source": [
    "## Axiomatic definition\n",
    "\n",
    "A probability space is the following tuple: $(\\Omega, \\cal{F}, \\mathbb{P})$."
   ]
  },
  {
   "cell_type": "markdown",
   "metadata": {
    "slideshow": {
     "slide_type": "subslide"
    }
   },
   "source": [
    "- **Sample space** $\\Omega = \\{\\omega\\}$ is an arbitrary set. It is a space of **elementary outcomes** (basic mutually exclusive events)."
   ]
  },
  {
   "cell_type": "markdown",
   "metadata": {
    "slideshow": {
     "slide_type": "subslide"
    }
   },
   "source": [
    "- Basic and non-basic events are associated with **sets** of outcomes, which belong to **set of events** - a family $\\cal{F} \\subset 2^\\Omega$, such that\n",
    "    1. $\\Omega \\in \\cal{F}$\n",
    "    2. If $A \\in \\cal{F}$, then $\\overline{A} \\in \\cal{F}$ (closed under complement operation)\n",
    "    3. If $A, B \\in \\cal{F}$, then $A \\cup B \\in \\cal{F}$ (closed under union operation)\n",
    "    4. If $A_1, A_2, \\ldots \\in \\cal{F}$, then $\\bigcup_{k=1}^\\infty A_k \\in \\cal{F}$ (closed under countable union operation)\n",
    "    \n",
    "A set $\\cal{F}$ that satisfies conditions (1, 2, 3) is called an **algebra of sets**. A set $\\cal{F}$ that satisfies conditions (1, 2, 4) is called a **$\\sigma$-algebra of sets**. If $\\Omega$ is finite, any algebra is a $\\sigma$-algebra.\n",
    "\n",
    "Properties of a $\\sigma$-algebra:\n",
    "- $\\varnothing \\in \\cal{F}$\n",
    "- If $A_1, A_2, \\ldots \\in \\cal{F}$, then $\\bigcap_{k=1}^\\infty A_k \\in \\cal{F}$\n",
    "\n",
    "The pair $(\\Omega, \\cal{F})$ is called a **measurable space**."
   ]
  },
  {
   "cell_type": "markdown",
   "metadata": {
    "slideshow": {
     "slide_type": "subslide"
    }
   },
   "source": [
    "- The function $\\mathbb{P}: \\cal{F} \\to \\mathbb{R}_+$ is called a **probability measure**, if\n",
    "    1. $\\mathbb{P}(\\Omega) = 1$\n",
    "    2. If $A_1, A_2, \\ldots \\in \\cal{F}$ and $A_i \\cap A_j = \\varnothing$ for $i\\neq j$, then $\\mathbb{P}\\left(\\bigcup_{k=0}^\\infty A_k \\right) = \\sum_{k=1}^\\infty \\mathbb{P}(A_k)$ ($\\sigma$-additivity)\n",
    "    \n",
    "Properties of probability measure:\n",
    "- $\\mathbb{P}(\\overline{A}) = 1 - \\mathbb{P}(A)$\n",
    "- If $B \\subset A$, then $\\mathbb{P}(B) \\leqslant \\mathbb{P}(A)$\n",
    "- If $A_1 \\subset A_2 \\subset \\ldots$, then $\\mathbb{P}\\left(\\bigcup_{k=1}^\\infty\\right) = \\lim_{k\\to\\infty} \\mathbb{P}(A_k)$\n",
    "- If $A_1 \\supset A_2 \\supset \\ldots$, then $\\mathbb{P}\\left(\\bigcap_{k=1}^\\infty\\right) = \\lim_{k\\to\\infty} \\mathbb{P}(A_k)$"
   ]
  },
  {
   "cell_type": "markdown",
   "metadata": {
    "slideshow": {
     "slide_type": "slide"
    }
   },
   "source": [
    "## Problem 4\n",
    "\n",
    "Consider set $S$ of all (how many?) subsets of set $M = \\{1, \\ldots, N\\}$. We take two sets randomly and independently two sets $A, B \\in S$. Find the probability that $A \\cap B = \\varnothing$."
   ]
  },
  {
   "cell_type": "markdown",
   "metadata": {
    "slideshow": {
     "slide_type": "slide"
    }
   },
   "source": [
    "## Solution 4\n",
    "\n",
    "Take any element $e \\in M$ from the original set.\n",
    "\n",
    "- $\\mathbb{P}(e \\in A) = p_1 = \\tfrac12$, by construction of $A$\n",
    "- $\\mathbb{P}(e \\in B) = p_2 = \\tfrac12$, by construction of $B$\n",
    "- $\\mathbb{P}(e \\in A \\cap B) = p_{12} = p_1 \\cdot p_2 = \\tfrac14$\n",
    "- $\\mathbb{P}(e \\notin A \\cap B) = 1 - \\mathbb{P}(e \\in A \\cap B) = 1 - p_{12} = \\tfrac34$\n",
    "\n",
    "Repeat for every $e \\in M$ to obtain:\n",
    "$$\n",
    "\\mathbb{P}(A \\cap B = \\varnothing) = \\left( \\frac34 \\right)^N\n",
    "$$"
   ]
  },
  {
   "cell_type": "markdown",
   "metadata": {
    "slideshow": {
     "slide_type": "slide"
    }
   },
   "source": [
    "## Problem 3\n",
    "\n",
    "Let $B_1, B_2, \\ldots, B_n \\in \\cal{F}$ be some events. Prove that\n",
    "$$\n",
    "\\mathbb{P}\\left(\\bigcup_{k=0}^\\infty B_k \\right) \\leqslant \\sum_{k=1}^\\infty \\mathbb{P}(B_k)\n",
    "$$"
   ]
  },
  {
   "cell_type": "markdown",
   "metadata": {
    "slideshow": {
     "slide_type": "slide"
    }
   },
   "source": [
    "## Solution 3\n",
    "\n",
    "- $\\sigma$-additivity axiom of probability: If $A_1, A_2, \\ldots \\in \\cal{F}$ and $A_i \\cap A_j = \\varnothing$ for $i\\neq j$, then $\\mathbb{P}\\left(\\bigcup_{k=0}^\\infty A_k \\right) = \\sum_{k=1}^\\infty \\mathbb{P}(A_k)$\n",
    "- We need to prove $\\mathbb{P}\\left(\\bigcup_{k=0}^\\infty B_k \\right) \\leqslant \\sum_{k=1}^\\infty \\mathbb{P}(B_k)$\n",
    "\n",
    "What is lacking?"
   ]
  },
  {
   "cell_type": "markdown",
   "metadata": {
    "slideshow": {
     "slide_type": "subslide"
    }
   },
   "source": [
    "We need to correct our events $B_k$ to be disjoint. Let's introduce sets $C_k = B_k - \\bigcup_{i=1}^{k=1} B_k$. They are disjoint by construction.\n",
    "\n",
    "Since $C_k \\subset B_k$, we have\n",
    "- $\\bigcup_{k=1}^\\infty B_k = \\bigcup_{k=1}^\\infty C_k$\n",
    "- $\\mathbb{P}(C_k) \\leqslant \\mathbb{P}(B_k)$\n",
    "\n",
    "Therefore,\n",
    "$$\n",
    "\\mathbb{P}\\left(\\bigcup_{k=0}^\\infty B_k \\right) = \\mathbb{P}\\left(\\bigcup_{k=0}^\\infty C_k \\right)= \\sum_{k=1}^\\infty \\mathbb{P}(C_k) \\leqslant \\sum_{k=1}^\\infty \\mathbb{P}(B_k)\n",
    "$$"
   ]
  }
 ],
 "metadata": {
  "celltoolbar": "Slideshow",
  "kernelspec": {
   "display_name": "Python 3",
   "language": "python",
   "name": "python3"
  },
  "language_info": {
   "codemirror_mode": {
    "name": "ipython",
    "version": 3
   },
   "file_extension": ".py",
   "mimetype": "text/x-python",
   "name": "python",
   "nbconvert_exporter": "python",
   "pygments_lexer": "ipython3",
   "version": "3.7.3"
  }
 },
 "nbformat": 4,
 "nbformat_minor": 5
}
