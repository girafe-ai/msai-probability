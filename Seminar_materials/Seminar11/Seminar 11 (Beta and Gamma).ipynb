{
 "cells": [
  {
   "cell_type": "markdown",
   "id": "6f9a4edb",
   "metadata": {
    "slideshow": {
     "slide_type": "slide"
    }
   },
   "source": [
    "# Homework problems"
   ]
  },
  {
   "cell_type": "markdown",
   "id": "25de506c",
   "metadata": {
    "slideshow": {
     "slide_type": "slide"
    }
   },
   "source": [
    "## Problem 1\n",
    "\n",
    "Compute the moment-generating function of $Geom(p)$. Use it to find expectation and variance."
   ]
  },
  {
   "cell_type": "markdown",
   "id": "3e1e710d",
   "metadata": {
    "slideshow": {
     "slide_type": "slide"
    }
   },
   "source": [
    "## Solution 1\n",
    "\n",
    "MGF:\n",
    "$$\n",
    "M_X(t) = \\mathbb{E}\\left[e^{tX}\\right] = \\sum\\limits_{k=0}^\\infty e^{tk} q^k p = p \\sum\\limits_{k=0}^\\infty\\left(  e^{t} q \\right)^k = \\frac{p}{1 - e^t q}\n",
    "$$\n",
    "\n",
    "First derivative:\n",
    "$$\n",
    "M'_X(t) = \\frac{p q e^t}{(1 - e^t q)^2}\n",
    "$$"
   ]
  },
  {
   "cell_type": "markdown",
   "id": "03ef75ae",
   "metadata": {
    "slideshow": {
     "slide_type": "subslide"
    }
   },
   "source": [
    "Expectation $M'_X(0) = \\frac{q}{p}$. Second derivative:\n",
    "$$\n",
    "M''_X(0) = p q e^t \\frac{1 + q e^t}{(1 - e^t q)^3}\n",
    "$$\n",
    "\n",
    "Second moment $M''_X(0) = \\frac{q(1+q)}{p^2}$. Variance $\\mathbb{V}\\text{ar}(X) = \\frac{q^2+q}{p^2} - \\frac{q^2}{p^2} = \\frac{q}{p^2}$."
   ]
  },
  {
   "cell_type": "markdown",
   "id": "436606ff",
   "metadata": {
    "slideshow": {
     "slide_type": "slide"
    }
   },
   "source": [
    "## Problem 2\n",
    "\n",
    "Let $X$ and $Y$ be i.i.d. $Geom(p)$, and $N = X + Y$. Find the joint PMF of $X, Y, N$. Find the joint PMF of $X$ and $N$. Find the conditional PMF of $X$ given $N = n$."
   ]
  },
  {
   "cell_type": "markdown",
   "id": "8bd33e84",
   "metadata": {
    "slideshow": {
     "slide_type": "slide"
    }
   },
   "source": [
    "## Solution 2\n",
    "\n",
    "$$\n",
    "\\begin{aligned}\n",
    "\\mathbb{P}(X = x, Y = y, N = n) & = \\mathbb{P}(X = x, Y = y) \\mathbb{I}\\text{nd}(n = x + y) = \\\\\n",
    "& = \\mathbb{P}(X = x)\\mathbb{P}(Y = y) \\mathbb{I}\\text{nd}(n = x + y) = \\\\\n",
    "& = q^{x+y} p^2 \\mathbb{I}\\text{nd}(n = x + y) = \\\\\n",
    "& = q^{n} p^2 \\mathbb{I}\\text{nd}(n = x + y)\n",
    "\\end{aligned}\n",
    "$$"
   ]
  },
  {
   "cell_type": "markdown",
   "id": "56574f7f",
   "metadata": {
    "slideshow": {
     "slide_type": "slide"
    }
   },
   "source": [
    "## Problem 3\n",
    "\n",
    "Let $U \\sim U[0, \\tfrac{\\pi}{2}]$. Find the PDF of $\\sin(U)$."
   ]
  },
  {
   "cell_type": "markdown",
   "id": "7f7899d5",
   "metadata": {
    "slideshow": {
     "slide_type": "slide"
    }
   },
   "source": [
    "## Solution 3\n",
    "\n",
    "So $g(x) = \\sin(- x)$, it is not one-to-one in general, but one-to-one on $[0, \\frac{\\pi}{2}]$, and $g^{-1}(y) = - \\arcsin y$. Let's find\n",
    "$$\n",
    "\\frac{dg(x)}{dx} = \\cos x\n",
    "$$"
   ]
  },
  {
   "cell_type": "markdown",
   "id": "44ee3149",
   "metadata": {
    "slideshow": {
     "slide_type": "subslide"
    }
   },
   "source": [
    "So,\n",
    "$$\n",
    "\\begin{aligned}\n",
    "f_Y(y) & = f_X(x) \\left| \\frac{d g(x)}{dx} \\right|^{-1} = f_X(\\arcsin y) \\frac{1}{\\cos \\arcsin y} = \\\\\n",
    "& = f_X(\\arcsin y) \\frac{1}{\\sqrt{1 - x^2}}\n",
    "\\end{aligned}\n",
    "$$"
   ]
  },
  {
   "cell_type": "markdown",
   "id": "3620fde4",
   "metadata": {
    "slideshow": {
     "slide_type": "slide"
    }
   },
   "source": [
    "## Problem 4\n",
    "\n",
    "Let $X$ and $Y$ be i.i.d. $Exp(\\lambda)$, and $T = \\log(X/Y)$. Find the CDF and PDF of $T$."
   ]
  },
  {
   "cell_type": "markdown",
   "id": "3594ab4b",
   "metadata": {
    "slideshow": {
     "slide_type": "slide"
    }
   },
   "source": [
    "## Solution 4\n",
    "\n",
    "Consider transform $(X, Y) \\to (Z, Y)$, where $Z = X/Y$. The inverse transform is $X = YZ, Y = Y$. Jacobian of the inverse transform is\n",
    "$$\n",
    "\\frac{\\partial (x, y)}{\\partial (z, y)} = \\begin{pmatrix}y&z\\\\0&1\\end{pmatrix}\n",
    "$$\n",
    "\n",
    "The joint density is\n",
    "$$\n",
    "f_{Z, Y}(z, y) =  f_{X, Y}(g^{-1}(z, y)) \\left|\\det \\frac{\\partial (x, y)}{\\partial (z, y)}\\right| = f_{X, Y}(yz, y) y = y \\lambda e^{- \\lambda yz} \\lambda e^{- \\lambda y} = y \\lambda^2 e^{- \\lambda y (1 + z)}, y > 0\n",
    "$$"
   ]
  },
  {
   "cell_type": "markdown",
   "id": "a14e0b95",
   "metadata": {
    "slideshow": {
     "slide_type": "subslide"
    }
   },
   "source": [
    "Let's find the marginal distribution of $Z$:\n",
    "$$\n",
    "f_Z(z) = \\frac{\\lambda^2}{\\lambda^2 (1 + z)^2} \\int_0^\\infty y (1 + z) e^{- \\lambda y (1 + z)} d ( y ( 1 + z ) ) = \\frac{1}{(1 + z)^2} \\int_0^\\infty u e^{-u} du = \\frac{1}{(1 + z)^2}\n",
    "$$\n",
    "\n",
    "Let's find the log-transform $T$. So $g(x) = \\log(x)$, it is one-to-one, and $g^{-1}(y) = \\exp y$. Let's find\n",
    "$$\n",
    "\\frac{dg(x)}{dx} = \\frac{1}{x}\n",
    "$$"
   ]
  },
  {
   "cell_type": "markdown",
   "id": "d23b2188",
   "metadata": {
    "slideshow": {
     "slide_type": "subslide"
    }
   },
   "source": [
    "So,\n",
    "$$\n",
    "\\begin{aligned}\n",
    "f_T(t) & = f_Z(z) \\left| \\frac{d g(z)}{dz} \\right|^{-1} = f_Z(\\exp t) \\exp t = \\\\\n",
    "& = \\frac{\\exp t}{(1 + \\exp t)^2}\n",
    "\\end{aligned}\n",
    "$$"
   ]
  },
  {
   "cell_type": "markdown",
   "id": "35cd90a0",
   "metadata": {
    "slideshow": {
     "slide_type": "slide"
    }
   },
   "source": [
    "# Beta and Gamma"
   ]
  },
  {
   "cell_type": "markdown",
   "id": "9790546c",
   "metadata": {
    "slideshow": {
     "slide_type": "slide"
    }
   },
   "source": [
    "## Beta distribution\n",
    "\n",
    "The Beta distribution is a continuous distribution on the interval $(0, 1)$. It is a generalization of the $U[0,1]$ distribution, allowing the PDF to be non-constant. Let $X \\sim Beta(a, b)$ with $a > 0, b > 0$, then\n",
    "$$\n",
    "f_X(x) = \\frac{1}{\\beta(a, b)} x^{a-1} (1 - x)^{b-1}, 0 < x < 1\n",
    "$$\n",
    "\n",
    "$\\beta(a, b)$ is a normalizing constant. We will discuss what it is exactly later."
   ]
  },
  {
   "cell_type": "markdown",
   "id": "ffe599e2",
   "metadata": {
    "slideshow": {
     "slide_type": "slide"
    }
   },
   "source": [
    "## Beta distribution\n",
    "\n",
    "Why need this extension? For example for Bayesian inference.\n",
    "\n",
    "Bayesian inference is used to update the parameters $\\theta$ of distribution $X$ after observing some data $X$ and also equipped with preliminary beliefs on the values of these parameters expressed **as a distibution**. We will cover it in statistics course in great detail. Bayesian inference relies on bayes theorem:\n",
    "$$\n",
    "\\mathbb{P}(\\theta|X) = \\frac{\\mathbb{P}(X|\\theta)\\mathbb{P}(\\theta)}{\\int \\mathbb{P}(X|\\theta) \\mathbb{P}(\\theta) d\\theta}\n",
    "$$\n",
    "\n",
    "Here, $\\mathbb{P}(X|\\theta)$ is the likelihood of the data (probability to observe it with current parameters), $\\mathbb{P}(\\theta)$ is the prior distribution on parameters (our preliminary beliefs), and $\\mathbb{P}(\\theta|X)$ is the posterior distribution on parameters (updated beliefs).\n",
    "\n",
    "In order to compute the integral in the denominator, you need your prior and likelihood to be **conjugate**. If your data is counts, the likelihood will be Binomial. If you do not have any beliefs, you may assume Uniform prior. However, Uniform distribution is not conjugate with Binomial, so the integral can not be computed. Beta distribution is in fact conjugate with Binomial."
   ]
  },
  {
   "cell_type": "markdown",
   "id": "39815f27",
   "metadata": {
    "slideshow": {
     "slide_type": "slide"
    }
   },
   "source": [
    "## Beta distribution\n",
    "\n",
    "Here, $\\mathbb{P}(X|\\theta)$ is the likelihood of the data (probability to observe it with current parameters), $\\mathbb{P}(\\theta)$ is the prior distribution on parameters (our preliminary beliefs), and $\\mathbb{P}(\\theta|X)$ is the posterior distribution on parameters (updated beliefs).\n",
    "\n",
    "In order to compute the integral in the denominator, you need your prior and likelihood to be **conjugate**. If your data is counts, the likelihood will be Binomial. If you do not have any beliefs, you may assume Uniform prior. Beta distribution is in fact conjugate with Binomial."
   ]
  },
  {
   "cell_type": "code",
   "execution_count": 9,
   "id": "d901b44d",
   "metadata": {
    "slideshow": {
     "slide_type": "skip"
    }
   },
   "outputs": [],
   "source": [
    "import numpy as np\n",
    "import scipy.stats as sts\n",
    "import matplotlib.pyplot as plt\n",
    "%matplotlib inline"
   ]
  },
  {
   "cell_type": "code",
   "execution_count": 19,
   "id": "4c0faa72",
   "metadata": {
    "slideshow": {
     "slide_type": "slide"
    }
   },
   "outputs": [
    {
     "data": {
      "image/png": "[encoded data removed]",
      "text/plain": [
       "<Figure size 360x360 with 4 Axes>"
      ]
     },
     "metadata": {
      "needs_background": "light"
     },
     "output_type": "display_data"
    }
   ],
   "source": [
    "xx = np.linspace(0,1,100)\n",
    "fig, axes = plt.subplots(2,2,figsize=(5,5), sharex=True, sharey=True)\n",
    "for (a, b), ax in zip([(0.5, 0.5), (1, 1), (2, 8), (5, 5)], axes.flatten()):\n",
    "    ax.plot(xx, sts.beta(a, b).pdf(xx))\n",
    "    ax.set_title(f\"Beta({a}, {b})\")\n",
    "fig.tight_layout()"
   ]
  },
  {
   "cell_type": "markdown",
   "id": "44756d94",
   "metadata": {
    "slideshow": {
     "slide_type": "slide"
    }
   },
   "source": [
    "## Beta distribution\n",
    "\n",
    "By definition,\n",
    "$$\n",
    "\\beta(a, b) = \\int_0^1 x^{a-1} (1 - x)^{b-1} dx\n",
    "$$\n",
    "\n",
    "We can compute it directly, but there is a useful relation (read story proof in the textbook) called Bayes billiards:\n",
    "$$\n",
    "\\int_0^1 \\begin{pmatrix}n\\\\k\\end{pmatrix} x^{a-1} (1 - x)^{b-1} dx = \\frac{1}{n+1}\n",
    "$$\n",
    "\n",
    "We can compute $\\beta(a, b)$ using this relation."
   ]
  },
  {
   "cell_type": "markdown",
   "id": "86084e0f",
   "metadata": {
    "slideshow": {
     "slide_type": "slide"
    }
   },
   "source": [
    "## Gamma distribution\n",
    "\n",
    "The Gamma distribution is a continuous distribution on the positive real line. It is a generalization of the Exponential distribution. In order to write down the PDF, we will need the **gamma function**:\n",
    "$$\n",
    "\\Gamma(a) = \\int_0^\\infty x^{a-1} e^{-x} dx, a > 0\n",
    "$$\n",
    "\n",
    "Properties:\n",
    "1. $\\Gamma(a+1) = a\\Gamma(a)$\n",
    "2. $\\Gamma(n) = (n-1)!, n \\in \\mathbb{N}_{++}$"
   ]
  },
  {
   "cell_type": "markdown",
   "id": "d9a6e00f",
   "metadata": {
    "slideshow": {
     "slide_type": "slide"
    }
   },
   "source": [
    "## Gamma distribution\n",
    "\n",
    "Let $X \\sim Gamma(a, 1)$ with $a > 0$, then\n",
    "$$\n",
    "f_X(x) = \\frac{1}{\\Gamma(a)} x^{a-1} e^{-x}, x > 0\n",
    "$$\n",
    "\n",
    "The distribution of $Y = \\frac{1}{\\lambda} X \\sim Gamma(a, \\lambda)$. By the transform formula,\n",
    "$$\n",
    "f_Y(y) = \\frac{1}{\\Gamma(a)} \\lambda^a y^{a-1} e^{-\\lambda y}, y > 0\n",
    "$$\n",
    "\n",
    "Note that for $a = 1$ we have $Gamma(1, \\lambda) \\equiv Exp(\\lambda)$."
   ]
  },
  {
   "cell_type": "code",
   "execution_count": 18,
   "id": "fcdcec6d",
   "metadata": {
    "slideshow": {
     "slide_type": "slide"
    }
   },
   "outputs": [
    {
     "data": {
      "image/png": "[encoded data removed]",
      "text/plain": [
       "<Figure size 360x360 with 4 Axes>"
      ]
     },
     "metadata": {
      "needs_background": "light"
     },
     "output_type": "display_data"
    }
   ],
   "source": [
    "xx = np.linspace(0,20,100)\n",
    "fig, axes = plt.subplots(2,2,figsize=(5,5), sharex=True, sharey=True)\n",
    "for (a, b), ax in zip([(3, 1), (3, 0.5), (10, 1), (5, 0.5)], axes.flatten()):\n",
    "    ax.plot(xx, sts.gamma(a).pdf(xx * b) * b)\n",
    "    ax.set_title(f\"Gamma({a}, {b})\")\n",
    "fig.tight_layout()"
   ]
  },
  {
   "cell_type": "markdown",
   "id": "a1924a25",
   "metadata": {
    "slideshow": {
     "slide_type": "slide"
    }
   },
   "source": [
    "## Gamma distribution\n",
    "\n",
    "Let's find the mean, variance, and other moments of the Gamma distribution. Let's start with $X \\sim Gamma(a, 1)$. We will do it without taking a single integral.\n",
    "\n",
    "$$\n",
    "\\begin{aligned}\n",
    "\\mathbb{E}[X] & = \\int_0^\\infty x \\frac{1}{\\Gamma(a)} x^{a-1} e^{-x} dx = \\frac{1}{\\Gamma(a)} \\int_0^\\infty x x^{a+1-1} e^{-x} dx = \\\\\n",
    "& = \\frac{\\Gamma(a+1)}{\\Gamma(a)} = \\frac{a\\Gamma(a)}{\\Gamma(a)} = a\n",
    "\\end{aligned}\n",
    "$$"
   ]
  },
  {
   "cell_type": "markdown",
   "id": "762889b8",
   "metadata": {
    "slideshow": {
     "slide_type": "slide"
    }
   },
   "source": [
    "## Gamma distribution\n",
    "\n",
    "LOTUS gives us the second moment:\n",
    "$$\n",
    "\\begin{aligned}\n",
    "\\mathbb{E}[X^2] & = \\int_0^\\infty x^2 \\frac{1}{\\Gamma(a)} x^{a-1} e^{-x} dx = \\frac{1}{\\Gamma(a)} \\int_0^\\infty x x^{a+2-1} e^{-x} dx = \\\\\n",
    "& = \\frac{\\Gamma(a+2)}{\\Gamma(a)} = \\frac{a(a+1)\\Gamma(a)}{\\Gamma(a)} = a (a+1)\n",
    "\\end{aligned}\n",
    "$$\n",
    "\n",
    "Then, the variance is $\\mathbb{V}\\text{ar}(X) = \\mathbb{E}\\left[X^2\\right] - \\left(\\mathbb{E}[X] \\right)^2 = a$. "
   ]
  },
  {
   "cell_type": "markdown",
   "id": "edd60693",
   "metadata": {
    "slideshow": {
     "slide_type": "slide"
    }
   },
   "source": [
    "## Gamma distribution\n",
    "\n",
    "We can now transform to $Y = X/\\lambda \\sim Gamma(a, \\lambda)$, to obtain:\n",
    "- $\\mathbb{E}[Y] = \\frac{a}{\\lambda}$\n",
    "- $\\mathbb{V}\\text{ar}(Y) = \\frac{a}{\\lambda^2}$\n",
    "\n",
    "The Gamma distribution is conjugate with Poisson distribution."
   ]
  },
  {
   "cell_type": "markdown",
   "id": "6797e982",
   "metadata": {
    "slideshow": {
     "slide_type": "slide"
    }
   },
   "source": [
    "## Beta-Gamma connection\n",
    "\n",
    "$$\n",
    "\\beta(a, b) = \\frac{\\Gamma(a) \\Gamma(b)}{\\Gamma(a+b)}\n",
    "$$"
   ]
  },
  {
   "cell_type": "markdown",
   "id": "449c4970",
   "metadata": {
    "slideshow": {
     "slide_type": "slide"
    }
   },
   "source": [
    "# Homework problems"
   ]
  },
  {
   "cell_type": "markdown",
   "id": "443277f6",
   "metadata": {
    "slideshow": {
     "slide_type": "slide"
    }
   },
   "source": [
    "## Homework problems\n",
    "\n",
    "1. Find the MGF function of $\\Gamma(n, \\lambda)$.\n",
    "2. While running errands, you need to go to the bank, then to the post office. Let $X \\sim Gamma(a, \\lambda)$ be your waiting time in line at the bank, and let $Y \\sim Gamma(b, \\lambda)$ be your waiting time in line at the post office (with the same $\\lambda$ for both). Assume $X$ and $Y$ are independent. What is the joint distribution of $T = X + Y$ (your total wait at the bank and post office) and $W = X/(X+Y)$ (the fraction of your waiting time spent at the bank)? In case of trouble, refer to the textbook, this problem is solved there.\n",
    "3. Use the result of previous problem to find the expectation and variance of Beta distribution. In case of trouble, refer to the textbook, this problem is solved there."
   ]
  }
 ],
 "metadata": {
  "celltoolbar": "Слайд-шоу",
  "kernelspec": {
   "display_name": "Python 3 (ipykernel)",
   "language": "python",
   "name": "python3"
  },
  "language_info": {
   "codemirror_mode": {
    "name": "ipython",
    "version": 3
   },
   "file_extension": ".py",
   "mimetype": "text/x-python",
   "name": "python",
   "nbconvert_exporter": "python",
   "pygments_lexer": "ipython3",
   "version": "3.9.7"
  }
 },
 "nbformat": 4,
 "nbformat_minor": 5
}
