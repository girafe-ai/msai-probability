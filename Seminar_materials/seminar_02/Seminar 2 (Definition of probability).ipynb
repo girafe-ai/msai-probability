{
 "cells": [
  {
   "cell_type": "markdown",
   "id": "1cac9fc4",
   "metadata": {
    "slideshow": {
     "slide_type": "slide"
    }
   },
   "source": [
    "# Seminar 2"
   ]
  },
  {
   "cell_type": "code",
   "execution_count": 1,
   "id": "605f0b9f",
   "metadata": {
    "editable": true,
    "slideshow": {
     "slide_type": "skip"
    },
    "tags": []
   },
   "outputs": [
    {
     "name": "stderr",
     "output_type": "stream",
     "text": [
      "/var/folders/33/j0cl7y453td68qb96j7bqcj4cf41kc/T/ipykernel_40555/3212562443.py:8: DeprecationWarning: `set_matplotlib_formats` is deprecated since IPython 7.23, directly use `matplotlib_inline.backend_inline.set_matplotlib_formats()`\n",
      "  dp.set_matplotlib_formats(\"retina\")\n"
     ]
    }
   ],
   "source": [
    "import numpy as np\n",
    "import pandas as pd\n",
    "\n",
    "import IPython.display as dp\n",
    "import matplotlib.pyplot as plt\n",
    "import seaborn as sns\n",
    "\n",
    "dp.set_matplotlib_formats(\"retina\")\n",
    "sns.set(style=\"whitegrid\", font_scale=1.5)\n",
    "sns.despine()\n",
    "\n",
    "%matplotlib inline"
   ]
  },
  {
   "cell_type": "markdown",
   "id": "41f5d8ec-69f9-44ef-8e70-8b1b1d0766b3",
   "metadata": {
    "editable": true,
    "slideshow": {
     "slide_type": "slide"
    },
    "tags": []
   },
   "source": [
    "## Last time\n",
    "\n",
    "- Product rule for sampling with replacement when order matters\n",
    "- Factorial rule for sampling without replacement when order matters\n",
    "- Naive definition of probability\n",
    "- Finding the probability of complement"
   ]
  },
  {
   "cell_type": "markdown",
   "id": "3b6cbe26-1a99-4df7-b756-20e0691b352c",
   "metadata": {
    "editable": true,
    "slideshow": {
     "slide_type": "slide"
    },
    "tags": []
   },
   "source": [
    "## This time\n",
    "\n",
    "- Binomial coefficient for sampling without replacement when order doesn't matter\n",
    "- \"Stars and bars\" for sampling with replacement where the order doesn't matter\n",
    "- Axiomatic definition of probability"
   ]
  },
  {
   "cell_type": "markdown",
   "id": "f525ffce-cfaa-4907-830a-64a1c1003bca",
   "metadata": {
    "editable": true,
    "slideshow": {
     "slide_type": "slide"
    },
    "tags": []
   },
   "source": [
    "## Binomial coefficient\n",
    "\n",
    "A binomial coefficient counts the number of subsets of a certain size for a set, such as the number of ways to choose a committee of size $k$ from a set of $n$ people. Sets and subsets are by definition unordered, e.g., $\\{3, 1, 4\\} = \\{4, 1, 3\\}$, so we are counting the number of ways to choose $k$ objects out of $n$, without replacement and without distinguishing between the different orders in which they could be chosen.\n",
    "\n",
    "For any nonnegative integers $k$ and $n$, the binomial coefficient $\\begin{pmatrix}n\\\\k\\end{pmatrix}$, read as \"$n$ choose $k$\", is the number of subsets of size $k$ for a set of size $n$. For $ k \\leqslant n$,\n",
    "\n",
    "$$\n",
    "\\begin{pmatrix}n\\\\k\\end{pmatrix}=\\frac{n!}{k!(n-k)!}\n",
    "$$"
   ]
  },
  {
   "cell_type": "markdown",
   "id": "3d2bbfbb-4ef7-4b69-a252-e2dc50da8d25",
   "metadata": {
    "editable": true,
    "slideshow": {
     "slide_type": "slide"
    },
    "tags": []
   },
   "source": [
    "### Problem 1\n",
    "\n",
    "How many paths are there from the point (0,0) to the point (110,111) in the plane such that each step either consists of going one unit up or one unit to the right?"
   ]
  },
  {
   "cell_type": "markdown",
   "id": "f1477908-73e1-4159-96da-c25df7a1d14f",
   "metadata": {
    "editable": true,
    "slideshow": {
     "slide_type": "slide"
    },
    "tags": []
   },
   "source": [
    "### Solution 1\n",
    "\n",
    "Reminder: We will encode a path as a sequence of letters $U$ (for up step) and $R$ (for right step), like $URURURU\\ldots UURUR$. The sequence must consist of 110 $R$s and 111 $U$s.\n",
    "\n",
    "Note that to fully describe the sequence we actually only need to specify where the $R$s are located. This falls under binomial coefficient definition. So there are $\\begin{pmatrix}110+111\\\\110\\end{pmatrix}$ possible paths."
   ]
  },
  {
   "cell_type": "markdown",
   "id": "83c515e1-5aa2-4481-9a96-01584d1d8a6b",
   "metadata": {
    "editable": true,
    "slideshow": {
     "slide_type": "slide"
    },
    "tags": []
   },
   "source": [
    "### Problem 2\n",
    "\n",
    "How many ways are there to split a dozen people into 3 teams, where each team has 4 people?"
   ]
  },
  {
   "cell_type": "markdown",
   "id": "5906936b-1bd5-42d0-b649-883bc1e524d2",
   "metadata": {
    "editable": true,
    "slideshow": {
     "slide_type": "slide"
    },
    "tags": []
   },
   "source": [
    "### Solution 2\n",
    "\n",
    "Let's randomly pick the first team, then randomly pick the second and claim the remaining people the third team.\n",
    "\n",
    "This gives us $\\begin{pmatrix}12\\\\4\\end{pmatrix}\\cdot\\begin{pmatrix}8\\\\4\\end{pmatrix}$ possibilities. Is it correct?"
   ]
  },
  {
   "cell_type": "markdown",
   "id": "5bd8b72a-1a0b-42c1-beb6-b22a31483786",
   "metadata": {
    "editable": true,
    "slideshow": {
     "slide_type": "fragment"
    },
    "tags": []
   },
   "source": [
    "It is not correct, because we overcounted due the fact that we do not actually care which team is the first, second or third. So we need to divide the expression by $3!$. The final answer is:\n",
    "\n",
    "$$\n",
    "\\frac{1}{3!} \\cdot \\begin{pmatrix}12\\\\4\\end{pmatrix}\\cdot\\begin{pmatrix}8\\\\4\\end{pmatrix} = \\frac{1}{3!} \\cdot \\frac{12!}{4!8!} \\cdot \\frac{8!}{4!4!} = \\frac{12!}{4! 4! 4! 3!}\n",
    "$$"
   ]
  },
  {
   "cell_type": "markdown",
   "id": "15802ff5-f369-46a9-9f9c-bde643c64509",
   "metadata": {
    "editable": true,
    "slideshow": {
     "slide_type": "fragment"
    },
    "tags": []
   },
   "source": [
    "If we cared which team is which, we would obtain $\\frac{12!}{4! 4! 4!}$, which is called a **multinomial coefficient**. The only difference is that we choose more than one subset from one total."
   ]
  },
  {
   "cell_type": "markdown",
   "id": "d81bceef-797d-4df7-9921-73ef99d818ca",
   "metadata": {
    "editable": true,
    "slideshow": {
     "slide_type": "slide"
    },
    "tags": []
   },
   "source": [
    "### Problem 3\n",
    "\n",
    "How many ways are there to put 10 balls into 3 boxes?"
   ]
  },
  {
   "cell_type": "markdown",
   "id": "cc8d44d4-6de0-44bf-8a6c-85457b6f53b3",
   "metadata": {
    "editable": true,
    "slideshow": {
     "slide_type": "slide"
    },
    "tags": []
   },
   "source": [
    "### Solution 3\n",
    "\n",
    "Let's visualize the balls as o and borders of boxes as |:\n",
    "$$\n",
    "|oooo|oooo|oo|\n",
    "$$\n",
    "\n",
    "How many balls do we have? How many borders do we have? How many total objects do we have?"
   ]
  },
  {
   "cell_type": "markdown",
   "id": "46451a2b-d3b0-4352-82b0-78a0b38e7888",
   "metadata": {
    "editable": true,
    "slideshow": {
     "slide_type": "fragment"
    },
    "tags": []
   },
   "source": [
    "We have:\n",
    "- 10 balls\n",
    "- 3 + 1 borders. Note however, that 2 borders are fixed to be leftmost and rightmost. So the free borders are actually 3 - 1.\n",
    "- 10 + 3 - 1 objects total\n",
    "\n",
    "Then, we need to choose the positions of the borders:\n",
    "$$\n",
    "\\begin{pmatrix}10 + 3 - 1\\\\3 - 1\\end{pmatrix} = \\begin{pmatrix}n + k - 1\\\\k - 1\\end{pmatrix}\n",
    "$$"
   ]
  },
  {
   "cell_type": "markdown",
   "id": "3b8f1f70",
   "metadata": {
    "editable": true,
    "slideshow": {
     "slide_type": "slide"
    },
    "tags": []
   },
   "source": [
    "## Recap of counting\n",
    "\n",
    "Sampling $k$ objects from $n$ choices:\n",
    "\n",
    "|With replacement|Order matters|Formula|\n",
    "|:-:|:-:|:-:|\n",
    "|Yes|Yes|\\begin{eqnarray}n^k\\end{eqnarray}|\n",
    "|Yes|No|\\begin{eqnarray}\\begin{pmatrix}n+k-1\\\\k-1\\end{pmatrix}\\end{eqnarray}|\n",
    "|No|Yes|\\begin{eqnarray}n!\\end{eqnarray}|\n",
    "|No|No|\\begin{eqnarray}\\begin{pmatrix}n\\\\k\\end{pmatrix}\\end{eqnarray}|"
   ]
  },
  {
   "cell_type": "markdown",
   "id": "63428a7f",
   "metadata": {
    "editable": true,
    "slideshow": {
     "slide_type": "slide"
    },
    "tags": []
   },
   "source": [
    "### Problem 4\n",
    "\n",
    "There are 100 passengers lined up to board an airplane with 100 seats (with each seat assigned to one of the passengers). The first passenger in line crazily decides to sit in a randomly chosen seat (with all seats equally likely). Each subsequent passenger takes their assigned seat if available, and otherwise sits in a random available seat. What is the probability that the last passenger in line gets to sit in their assigned seat?"
   ]
  },
  {
   "cell_type": "markdown",
   "id": "3af73656-548a-470b-90c0-31cadf930ad8",
   "metadata": {
    "editable": true,
    "slideshow": {
     "slide_type": "slide"
    },
    "tags": []
   },
   "source": [
    "### Solution 4\n",
    "\n",
    "Denote $i$-th passenger true seat as $i$, regardless of its position in the plane.\n",
    "\n",
    "Notice that there is always only one seat occupied incorrectly. Then consider a passenger $j$. He could sit in any other available seat, but he decided to sit into seat $1$. If he sits into seat $1$, it means that his place $j$ is taken.\n",
    "\n",
    "|pax\\seat|1|2|3|4|5|\n",
    "|:-:|:-:|:-:|:-:|:-:|:-:|\n",
    "||||1|||\n",
    "|||2|1|||\n",
    "|||2|1|3||\n",
    "|||2|1|3|4|\n",
    "||5|2|1|3|4|"
   ]
  },
  {
   "cell_type": "markdown",
   "id": "60e030d1-652a-484b-9064-b59e21c2d7db",
   "metadata": {
    "editable": true,
    "slideshow": {
     "slide_type": "fragment"
    },
    "tags": []
   },
   "source": [
    "|pax\\seat|1|2|3|4|5|\n",
    "|:-:|:-:|:-:|:-:|:-:|:-:|\n",
    "||||1|||\n",
    "|||2|1|||\n",
    "|||2|1|3||\n",
    "||4|2|1|3||\n",
    "||4|2|1|3|5|"
   ]
  },
  {
   "cell_type": "markdown",
   "id": "0897805d-5aea-49f1-b0dd-30b9e32fe163",
   "metadata": {},
   "source": [
    "|pax\\seat|1|2|3|4|5|\n",
    "|:-:|:-:|:-:|:-:|:-:|:-:|\n",
    "||||1|||\n",
    "|||2|1|||\n",
    "|||2|1||3|\n",
    "|||2|1|4|3|\n",
    "||5|2|1|4|3|\n",
    "\n",
    "|pax\\seat|1|2|3|4|5|\n",
    "|:-:|:-:|:-:|:-:|:-:|:-:|\n",
    "||||1|||\n",
    "|||2|1|||\n",
    "||3|2|1|||\n",
    "||3|2|1|4||\n",
    "||3|2|1|4|5|"
   ]
  },
  {
   "cell_type": "markdown",
   "id": "e4fb44a0-9e40-4a05-a02d-51c94b20eb2f",
   "metadata": {
    "editable": true,
    "slideshow": {
     "slide_type": "subslide"
    },
    "tags": []
   },
   "source": [
    "By sitting into seat $1$, he removes the source of permutation, because now all seats are occupied correctly. After that, all the passengers that enter the plane will be able to sit in their true seats. It is important that it always happens and can happen with any passenger $j$.\n",
    "\n",
    "Generally, the last $100$-th passenger may observe two cases:\n",
    "- The premutation was removed, then he has the option to sit into his true $100$-th seat\n",
    "- The permutation was not removed, then he is the one to remove the permutation and take seat $1$.\n",
    "\n",
    "We can now reduce the problem to just two seats: $1$-st and $100$-th. One of the passengers seating on these seats is the last $100$-th passenger, the other is any other passenger $j$."
   ]
  },
  {
   "cell_type": "markdown",
   "id": "0113aef1",
   "metadata": {
    "editable": true,
    "slideshow": {
     "slide_type": "subslide"
    },
    "tags": []
   },
   "source": [
    "Since $j<100$, it means that both $1$-st and $100$-th seats were empty when he or she boarded the plane! And the probabilities to sit in any of them is equal.\n",
    "\n",
    "If $j$ sat in $1$ then the last passenger ended up sitting in $100$ and the resulting configuration of passengers sitting in the 100 seats is the same as if $j$ had sat in $100$ except for the fact that the passengers in $1$ and $100$ are swapped. Therefore these two configurations occur with the same probability and exactly one of them has the last passenger in his or her seat $100$.\n",
    "\n",
    "This implies that all the final configurations of passengers can be paired such that the two configurations in any pair occur with the same probability and exactly one has the last passenger in his or her seat.\n",
    "\n",
    "This implies that the probability that the last passenger is in her seat is $0.5$."
   ]
  },
  {
   "cell_type": "markdown",
   "id": "ef85e62a",
   "metadata": {
    "editable": true,
    "slideshow": {
     "slide_type": "slide"
    },
    "tags": []
   },
   "source": [
    "## Non-naive definition"
   ]
  },
  {
   "cell_type": "markdown",
   "id": "74356ca3",
   "metadata": {
    "editable": true,
    "slideshow": {
     "slide_type": "slide"
    },
    "tags": []
   },
   "source": [
    "### Definition\n",
    "\n",
    "A probability space consists of a sample space $S$ and a probability function $P$ which takes an event $A \\subseteq S$ as input and returns $P(A)$, a real number between $0$ and $1$, as output. The function $P$ must satisfy the following axioms:\n",
    "- $P(\\varnothing) = 0, P(S) = 1$\n",
    "- If $A_1, A_2, \\ldots$ are disjoint ($A_i \\cap A_j = \\varnothing, i \\neq j$) events, then\n",
    "    $$\n",
    "    P\\left(\\bigcup\\limits_{j=1}^\\infty A_j\\right) = \\sum\\limits_{j=1}^\\infty P(A_j)\n",
    "    $$"
   ]
  },
  {
   "cell_type": "markdown",
   "id": "7c482edb",
   "metadata": {
    "editable": true,
    "slideshow": {
     "slide_type": "slide"
    },
    "tags": []
   },
   "source": [
    "### Properties\n",
    "\n",
    "1. $P(A^c) = 1 − P(A)$\n",
    "2. If $A \\subseteq B$, then $P(A) \\leqslant P(B)$\n",
    "3. $P (A \\cup B) = P (A) + P (B) − P (A \\cap B)$"
   ]
  },
  {
   "cell_type": "markdown",
   "id": "764dbfee",
   "metadata": {
    "editable": true,
    "slideshow": {
     "slide_type": "slide"
    },
    "tags": []
   },
   "source": [
    "### Problem 5\n",
    "\n",
    "Consider set $S$ of all (how many?) subsets of set $M = \\{1, \\ldots, N\\}$. We take two sets randomly and independently two sets $A, B \\in S$. Find the probability that $A \\cap B = \\varnothing$."
   ]
  },
  {
   "cell_type": "markdown",
   "id": "eb8e0e1b",
   "metadata": {
    "editable": true,
    "slideshow": {
     "slide_type": "slide"
    },
    "tags": []
   },
   "source": [
    "## Solution 5\n",
    "\n",
    "Take any element $e \\in M$ from the original set.\n",
    "\n",
    "- $\\mathbb{P}(e \\in A) = p_1 = \\tfrac12$, by construction of $A$\n",
    "- $\\mathbb{P}(e \\in B) = p_2 = \\tfrac12$, by construction of $B$\n",
    "- $\\mathbb{P}(e \\in A \\cap B) = p_{12} = p_1 \\cdot p_2 = \\tfrac14$\n",
    "- $\\mathbb{P}(e \\notin A \\cap B) = 1 - \\mathbb{P}(e \\in A \\cap B) = 1 - p_{12} = \\tfrac34$\n",
    "\n",
    "Repeat for every $e \\in M$ to obtain:\n",
    "$$\n",
    "\\mathbb{P}(A \\cap B = \\varnothing) = \\left( \\frac34 \\right)^N\n",
    "$$"
   ]
  },
  {
   "cell_type": "markdown",
   "id": "acd1a62f",
   "metadata": {
    "editable": true,
    "slideshow": {
     "slide_type": "slide"
    },
    "tags": []
   },
   "source": [
    "## Inclusion-exclusion formula\n",
    "\n",
    "$$P (A \\cup B) = P (A) + P (B) − P (A \\cap B)$$"
   ]
  },
  {
   "cell_type": "markdown",
   "id": "7624cc8b",
   "metadata": {
    "editable": true,
    "slideshow": {
     "slide_type": "fragment"
    },
    "tags": []
   },
   "source": [
    "$$P\\left(\\bigcup\\limits_{i=1}^n A_i\\right) = \\sum_i P(A_i) − \\sum_{i < j} P(A_i \\cap A_j) + \\sum_{i < j < k}P(A_i \\cap A_j \\cap A_k)−\\ldots+(−1)^{n+1} P(A_1 \\cap\\ldots \\cap A_n)$$"
   ]
  }
 ],
 "metadata": {
  "celltoolbar": "Slideshow",
  "kernelspec": {
   "display_name": "Python 3 (ipykernel)",
   "language": "python",
   "name": "python3"
  },
  "language_info": {
   "codemirror_mode": {
    "name": "ipython",
    "version": 3
   },
   "file_extension": ".py",
   "mimetype": "text/x-python",
   "name": "python",
   "nbconvert_exporter": "python",
   "pygments_lexer": "ipython3",
   "version": "3.12.0"
  }
 },
 "nbformat": 4,
 "nbformat_minor": 5
}
