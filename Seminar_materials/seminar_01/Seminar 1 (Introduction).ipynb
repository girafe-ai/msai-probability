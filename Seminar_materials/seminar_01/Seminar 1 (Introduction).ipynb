{
 "cells": [
  {
   "cell_type": "code",
   "execution_count": 1,
   "id": "c622c935-0b83-4b18-a608-25e27ab27c7d",
   "metadata": {
    "editable": true,
    "slideshow": {
     "slide_type": "skip"
    },
    "tags": []
   },
   "outputs": [],
   "source": [
    "import numpy as np\n",
    "import pandas as pd\n",
    "\n",
    "import matplotlib.pyplot as plt\n",
    "\n",
    "%matplotlib inline"
   ]
  },
  {
   "cell_type": "code",
   "execution_count": 2,
   "id": "2a8aaab5-a8da-466d-9fce-9df3e0879985",
   "metadata": {
    "editable": true,
    "slideshow": {
     "slide_type": "skip"
    },
    "tags": []
   },
   "outputs": [],
   "source": [
    "from scipy.special import factorial"
   ]
  },
  {
   "cell_type": "markdown",
   "id": "ed2cd65f",
   "metadata": {
    "editable": true,
    "slideshow": {
     "slide_type": "slide"
    },
    "tags": []
   },
   "source": [
    "# Seminar 1"
   ]
  },
  {
   "cell_type": "markdown",
   "id": "3fba3091-9c11-4435-bb22-a755fd5f982d",
   "metadata": {
    "editable": true,
    "slideshow": {
     "slide_type": "slide"
    },
    "tags": []
   },
   "source": [
    "## Seminar outlook\n",
    "\n",
    "- I introduce myself\n",
    "- You introduce yourselves\n",
    "- Administrative announcements\n",
    "- Counting rules and naive definition of probability"
   ]
  },
  {
   "cell_type": "markdown",
   "id": "632282a7",
   "metadata": {
    "editable": true,
    "slideshow": {
     "slide_type": "slide"
    },
    "tags": []
   },
   "source": [
    "## Let's get to know each other\n",
    "\n",
    "- My name is Nikolai Stulov\n",
    "- I myself got my BSc from MIPT\n",
    "- Got my MSc from HSE and Skoltech\n",
    "- 6 years of experience as Data Scientist and ML researcher\n",
    "- 4th time teaching Probability at MSAI\n",
    "\n",
    "I will be happy to hear short introductions from you! (but it's OK if you don't want to)"
   ]
  },
  {
   "cell_type": "markdown",
   "id": "34821b99-a06f-4c27-869c-8ab26fe622a9",
   "metadata": {
    "editable": true,
    "slideshow": {
     "slide_type": "slide"
    },
    "tags": []
   },
   "source": [
    "## Course outlook\n",
    "\n",
    "- Lectures will be distributed several days in advance (perhaps Monday), it's best to watch the lecture before the webinar\n",
    "- The webinars are mostly delivered in Jupyter notebooks, notebooks will be distributed via GitHub\n",
    "- You can get a maximum of 10 points for the course. Graded activities: homework, project, exam.\n",
    "- Homework will be weekly with 2 weeks time to solve. Each homework includes regular and bonus problems. Homeworks are distributed in Telegram, collected with Google Forms.\n",
    "- Fully solved regular problems in all homeworks will give you 7 points for the course. Bonus problems will give you additional 2 points for the course. If AI assistants are used, it must be explicitly stated and prompt must be provided.\n",
    "- A project is a take-home literature review + coding assignment. Project will give you additional 2 points for the course, but is not compulsory for anyone.\n",
    "- Exam is not compulsory if you get more than 3 points with homeworks. If you get 3 or less, you must take exam. Exam can give you a maximum of 3 points."
   ]
  },
  {
   "cell_type": "markdown",
   "id": "5756efe3",
   "metadata": {
    "editable": true,
    "slideshow": {
     "slide_type": "slide"
    },
    "tags": []
   },
   "source": [
    "## Counting rules"
   ]
  },
  {
   "cell_type": "markdown",
   "id": "19acb677",
   "metadata": {
    "editable": true,
    "slideshow": {
     "slide_type": "slide"
    },
    "tags": []
   },
   "source": [
    "### Problem 1 (entrance exam)\n",
    "\n",
    "Russian car plate consists of three letters and three digits. Any digits are permitted, but the only permitted letters are the ones that have English-lookalikes. How many car plates are possible in one region?"
   ]
  },
  {
   "cell_type": "markdown",
   "id": "6320db58",
   "metadata": {
    "editable": true,
    "slideshow": {
     "slide_type": "slide"
    },
    "tags": []
   },
   "source": [
    "### Solution 1\n",
    "\n",
    "How many letters are there?"
   ]
  },
  {
   "cell_type": "markdown",
   "id": "74e8cc12-3ed6-4b9c-a089-8dcadd36de71",
   "metadata": {
    "editable": true,
    "slideshow": {
     "slide_type": "fragment"
    },
    "tags": []
   },
   "source": [
    "A, B, C, E, H, K, M, O, P, T, X, Y - total 12 letters. We choose 3 digits from them. Do we sample with or without replacement?"
   ]
  },
  {
   "cell_type": "markdown",
   "id": "7dc90a61-e216-4dd5-8d8d-cc13625cc2c2",
   "metadata": {
    "editable": true,
    "slideshow": {
     "slide_type": "fragment"
    },
    "tags": []
   },
   "source": [
    "Using sampling with replacement, because there are no restrictions on repetitions of letters:\n",
    "- We choose three of ten digits: $10^3$\n",
    "- We choose three of twelve letters: $12^3$"
   ]
  },
  {
   "cell_type": "markdown",
   "id": "2ac7b04d-7978-4789-a32c-1cea83bf2de8",
   "metadata": {
    "editable": true,
    "slideshow": {
     "slide_type": "fragment"
    },
    "tags": []
   },
   "source": [
    "Since the choice of the digits and the letters is independent, the total number of plates is therefore $10^3 \\cdot 12^3 = 1728000$."
   ]
  },
  {
   "cell_type": "markdown",
   "id": "8913f59a",
   "metadata": {
    "editable": true,
    "slideshow": {
     "slide_type": "slide"
    },
    "tags": []
   },
   "source": [
    "### Problem 2 (entrance exam)\n",
    "How many 7-digit phone numbers are possible, assuming that the first digit can’t be a 0 or a 1?"
   ]
  },
  {
   "cell_type": "markdown",
   "id": "993204d7-65d3-41c5-b4a9-1a6080bfa6d8",
   "metadata": {
    "editable": true,
    "slideshow": {
     "slide_type": "slide"
    },
    "tags": []
   },
   "source": [
    "### Solution 2\n",
    "\n",
    "We independently choose each digit. Do we sample with or without replacement?"
   ]
  },
  {
   "cell_type": "markdown",
   "id": "2ec2c737-871d-47eb-aacf-de76a7b657d2",
   "metadata": {
    "editable": true,
    "slideshow": {
     "slide_type": "fragment"
    },
    "tags": []
   },
   "source": [
    "Using sampling with replacement, because there are no restrictions on repetitions of numbers:\n",
    "- We choose the first digit from reduced set of 8 digits: $8$\n",
    "- We choose the rest 6 digits: $10^6$"
   ]
  },
  {
   "cell_type": "markdown",
   "id": "4ac289e8-0676-4b2c-a179-b978d4a46c2b",
   "metadata": {
    "editable": true,
    "slideshow": {
     "slide_type": "fragment"
    },
    "tags": []
   },
   "source": [
    "The total number of phone numbers is therefore $8 \\cdot 10^6$."
   ]
  },
  {
   "cell_type": "markdown",
   "id": "a5d89ade-8a67-4e29-8c3f-1ec458012277",
   "metadata": {},
   "source": [
    "$$\n",
    "n \\cdot (n - 1) \\cdot \\ldots \\cdot (n - k + 1)\n",
    "$$"
   ]
  },
  {
   "cell_type": "markdown",
   "id": "124fbdd2-9a29-4287-8dcc-059a5e4d48d7",
   "metadata": {},
   "source": [
    "$$\n",
    "n = k \\Rightarrow n \\cdot (n - 1) \\cdot \\ldots \\cdot (n - n + 1) = n!\n",
    "$$"
   ]
  },
  {
   "cell_type": "markdown",
   "id": "182aa1e5",
   "metadata": {
    "editable": true,
    "slideshow": {
     "slide_type": "slide"
    },
    "tags": []
   },
   "source": [
    "### Problem 3\n",
    "How many paths are there from the point (0,0) to the point (110,111) in the plane such that each step either consists of going one unit up or one unit to the right?"
   ]
  },
  {
   "cell_type": "markdown",
   "id": "dd2bccb8-3184-4e4f-9e5a-4a3a9133b386",
   "metadata": {
    "editable": true,
    "slideshow": {
     "slide_type": "slide"
    },
    "tags": []
   },
   "source": [
    "### Solution 3\n",
    "\n",
    "We will encode a path as a sequence of letters $U$ (for up step) and $R$ (for right step), like $URURURU\\ldots UURUR$. How many $R$s and $U$s will be in the complete sequence?"
   ]
  },
  {
   "cell_type": "markdown",
   "id": "02d1f71d-41de-4dd3-8c31-0d6f19ca4618",
   "metadata": {
    "editable": true,
    "slideshow": {
     "slide_type": "fragment"
    },
    "tags": []
   },
   "source": [
    "The sequence must consist of 110 $R$s and 111 $U$s, because we need to get from 0 to 110 horizontally by only moving right and from 0 to 111 vertically by only moving up."
   ]
  },
  {
   "cell_type": "markdown",
   "id": "c5bbb80d",
   "metadata": {
    "editable": true,
    "slideshow": {
     "slide_type": "fragment"
    },
    "tags": []
   },
   "source": [
    "Let's use the factorial rule: the number of shuffles of this $UR$ sequence is $(110+111)! = 221!$. Is it correct?"
   ]
  },
  {
   "cell_type": "markdown",
   "id": "09d469d4",
   "metadata": {
    "editable": true,
    "slideshow": {
     "slide_type": "fragment"
    },
    "tags": []
   },
   "source": [
    "It is not correct, because we do not care about individual permutations of $R$s and $U$s, but we counted these permutations as different. We need to **adjust for overcounting**.\n",
    "\n",
    "We need to get rid of permutations that we counted multiple times. In order to do that, we divide by the number of such permutations, and this gives the correct answer:\n",
    "\n",
    "$$\\frac{221!}{110!111!}$$"
   ]
  },
  {
   "cell_type": "code",
   "execution_count": 3,
   "id": "e41ddb89-18e4-425b-844e-23387545ab73",
   "metadata": {
    "editable": true,
    "slideshow": {
     "slide_type": "fragment"
    },
    "tags": []
   },
   "outputs": [
    {
     "name": "stderr",
     "output_type": "stream",
     "text": [
      "/var/folders/33/j0cl7y453td68qb96j7bqcj4cf41kc/T/ipykernel_87094/3000228604.py:1: RuntimeWarning: overflow encountered in double_scalars\n",
      "  factorial(221) / (factorial(110) * factorial(111))\n",
      "/var/folders/33/j0cl7y453td68qb96j7bqcj4cf41kc/T/ipykernel_87094/3000228604.py:1: RuntimeWarning: invalid value encountered in double_scalars\n",
      "  factorial(221) / (factorial(110) * factorial(111))\n"
     ]
    },
    {
     "data": {
      "text/plain": [
       "nan"
      ]
     },
     "execution_count": 3,
     "metadata": {},
     "output_type": "execute_result"
    }
   ],
   "source": [
    "factorial(221) / (factorial(110) * factorial(111))"
   ]
  },
  {
   "cell_type": "markdown",
   "id": "08b20e9f-8dee-4851-82e6-64c9b096aaca",
   "metadata": {
    "editable": true,
    "slideshow": {
     "slide_type": "subslide"
    },
    "tags": []
   },
   "source": [
    "Why didn't we overcount previously?"
   ]
  },
  {
   "cell_type": "markdown",
   "id": "8cbac97c-655d-4734-8d12-ce15c34c96ee",
   "metadata": {
    "editable": true,
    "slideshow": {
     "slide_type": "fragment"
    },
    "tags": []
   },
   "source": [
    "Because we didn't use the number of shuffles formula $n!$, that assumes that object are distinguishable."
   ]
  },
  {
   "cell_type": "markdown",
   "id": "bfae1a78",
   "metadata": {
    "editable": true,
    "slideshow": {
     "slide_type": "slide"
    },
    "tags": []
   },
   "source": [
    "## Naive definition"
   ]
  },
  {
   "cell_type": "markdown",
   "id": "16b79717-51aa-43e6-801f-5e0ac1386c57",
   "metadata": {
    "editable": true,
    "slideshow": {
     "slide_type": "slide"
    },
    "tags": []
   },
   "source": [
    "### Problem 4 (entrance exam)\n",
    "\n",
    "A child is playing with cubes with letters A, A, C, E, H, I, K, M, M, S, T, T. What is the probability that a random ordering of the cubes in one line will form the word MATHEMATICS?"
   ]
  },
  {
   "cell_type": "markdown",
   "id": "b814bb58-6a28-4c5d-9460-93899980d443",
   "metadata": {
    "editable": true,
    "slideshow": {
     "slide_type": "slide"
    },
    "tags": []
   },
   "source": [
    "### Solution 4\n",
    "\n",
    "A, A, C, E, H, I, K, M, M, S, T, T - total 12 letters.\n",
    "\n",
    "Let's count the number of favorable cases: 2 ways to get an M, 2 ways to get an A, 2 ways to get a T, one way to get H and E, one left way to get an M, etc all ones. Multiplying, we get $2 \\cdot 2 \\cdot 2 \\cdot 1 \\cdot 1 \\cdot 1 \\cdot ... = 2^3$.\n",
    "\n",
    "Let's count the total number of cases: it is $12!$. Does this mean our answer is\n",
    "$$\n",
    "\\frac{2^3}{12!}\n",
    "$$"
   ]
  },
  {
   "cell_type": "markdown",
   "id": "db2fcd4c-2cd5-447c-9ccb-2ccab725c23e",
   "metadata": {
    "editable": true,
    "slideshow": {
     "slide_type": "fragment"
    },
    "tags": []
   },
   "source": [
    "No, it does not. We overcounted the total number of cases, because we counted twice the cases that differe in the positions of the same letters. We must get rid of the overcounting:\n",
    "$$\n",
    "\\frac{2^3}{\\frac{12!}{2!2!2!}} = \\frac{2^6}{12!}\n",
    "$$"
   ]
  },
  {
   "cell_type": "code",
   "execution_count": 4,
   "id": "e069ccd9-03f9-44d4-b561-5e4d04cfdf58",
   "metadata": {
    "editable": true,
    "slideshow": {
     "slide_type": "fragment"
    },
    "tags": []
   },
   "outputs": [
    {
     "data": {
      "text/plain": [
       "1.3361124472235584e-07"
      ]
     },
     "execution_count": 4,
     "metadata": {},
     "output_type": "execute_result"
    }
   ],
   "source": [
    "2 ** 6 / factorial(12)"
   ]
  },
  {
   "cell_type": "markdown",
   "id": "fc86e8db",
   "metadata": {
    "editable": true,
    "slideshow": {
     "slide_type": "slide"
    },
    "tags": []
   },
   "source": [
    "### Problem 5 (entrance exam)\n",
    "A city with 6 districts has 6 robberies in a particular week. Assume the robberies are located randomly, with all possibilities for which robbery occurred where equally likely. What is the probability that some district had more than 1 robbery?"
   ]
  },
  {
   "cell_type": "markdown",
   "id": "c0d028d6-e602-4346-8e41-f185bdf75d62",
   "metadata": {},
   "source": [
    "$$\n",
    "\\frac{neg}{all} = \\frac{all - fav}{all} = 1 - \\frac{fav}{all}\n",
    "$$"
   ]
  },
  {
   "cell_type": "markdown",
   "id": "cf105e4e",
   "metadata": {
    "editable": true,
    "slideshow": {
     "slide_type": "slide"
    },
    "tags": []
   },
   "source": [
    "### Solution 5\n",
    "\n",
    "We will compute the probability of the complement.\n",
    "\n",
    "- All cases: There are $6^6$ possible configurations for which robbery occurred where.\n",
    "- Favorable cases: There are $6!$ configurations where each district had exactly 1 of the 6.\n",
    "\n",
    "So the probability of the complement of the desired event is $6!/6^6$.\n",
    "\n",
    "Finally, the probability of some district having more than 1 robbery is $1 - 6!/6^6$."
   ]
  },
  {
   "cell_type": "code",
   "execution_count": 5,
   "id": "5dc1948a",
   "metadata": {
    "editable": true,
    "slideshow": {
     "slide_type": "fragment"
    },
    "tags": []
   },
   "outputs": [
    {
     "data": {
      "text/plain": [
       "0.9845679012345679"
      ]
     },
     "execution_count": 5,
     "metadata": {},
     "output_type": "execute_result"
    }
   ],
   "source": [
    "1 - factorial(6) / (6 ** 6)"
   ]
  }
 ],
 "metadata": {
  "celltoolbar": "Slideshow",
  "kernelspec": {
   "display_name": "Python 3 (ipykernel)",
   "language": "python",
   "name": "python3"
  },
  "language_info": {
   "codemirror_mode": {
    "name": "ipython",
    "version": 3
   },
   "file_extension": ".py",
   "mimetype": "text/x-python",
   "name": "python",
   "nbconvert_exporter": "python",
   "pygments_lexer": "ipython3",
   "version": "3.12.0"
  }
 },
 "nbformat": 4,
 "nbformat_minor": 5
}
