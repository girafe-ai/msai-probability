{
 "cells": [
  {
   "cell_type": "markdown",
   "id": "dbfabb16",
   "metadata": {
    "slideshow": {
     "slide_type": "slide"
    }
   },
   "source": [
    "# Homework problems"
   ]
  },
  {
   "cell_type": "markdown",
   "id": "498aed6c",
   "metadata": {
    "slideshow": {
     "slide_type": "slide"
    }
   },
   "source": [
    "## Problem 1\n",
    "\n",
    "Emails arrive one at a time in an inbox. Let $T_n$ be the time at which the $n$-th email arrives (measured on a continuous scale from some starting point in time). Suppose that the waiting times between emails are i.i.d. $Exp(\\lambda)$, i.e., $T_1, T_2 - T_1, T_3 − T_2, \\ldots \\sim Exp(\\lambda)$. Each email is non-spam with probability $p$, and spam with probability $q = 1 − p$ (independently of the other emails and of the waiting times). Let $X$ be the time at which the first non-spam email arrives (so $X$ is a continuous r.v.)\n",
    "- Find the mean of $X$.\n",
    "- Find the MGF of $X$. What famous distribution does this imply that X has?\n",
    "\n",
    "Hint for both parts: Let $N$ be the number of emails until the first non-spam (including that one), and write $X$ as a sum of $N$ terms, then condition on $N$."
   ]
  },
  {
   "cell_type": "markdown",
   "id": "2480b4b4",
   "metadata": {
    "slideshow": {
     "slide_type": "slide"
    }
   },
   "source": [
    "## Solution 1.1\n",
    "\n",
    "Let $N$ be the number of emails until the first non-spam, including it. Then, $N-1 \\sim Geom(p)$.\n",
    "\n",
    "Let's introduce random variables $X_k = T_k - T_{k-1}$. Then, $X = X_1 + X_2 + \\ldots + X_N$. Next,\n",
    "$$\n",
    "\\mathbb{E}[X] = \\mathbb{E}\\left[\\mathbb{E}[X|N]\\right]\n",
    "$$\n",
    "\n",
    "$$\n",
    "\\mathbb{E}[X|N=n] = \\mathbb{E}[\\sum_{k=1}^n X_k|N=n] = \\sum_{k=1}^n\\mathbb{E}[X_k] = \\sum_{k=1}^n \\frac{1}{\\lambda}\n",
    "$$\n",
    "\n",
    "$$\n",
    "\\mathbb{E}[X] = \\mathbb{E}\\left[\\mathbb{E}[X|N]\\right] = \\mathbb{E}[N \\frac{1}{\\lambda}] = \\frac{1}{p \\lambda}\n",
    "$$"
   ]
  },
  {
   "cell_type": "markdown",
   "id": "a7cc5a29",
   "metadata": {
    "slideshow": {
     "slide_type": "slide"
    }
   },
   "source": [
    "## Solution 1.2\n",
    "\n",
    "Let $N$ be the number of emails until the first non-spam, including it. Then, $N-1 \\sim Geom(p)$.\n",
    "\n",
    "Let's introduce random variables $X_k = T_k - T_{k-1}$. Then, $X = X_1 + X_2 + \\ldots + X_N$. Next,\n",
    "$$\n",
    "M_X(t) = \\mathbb{E}\\left[e^{tX}\\right] = \\mathbb{E}\\left[\\mathbb{E}\\left[e^{tX}|N\\right]\\right]\n",
    "$$\n",
    "\n",
    "$$\n",
    "\\mathbb{E}\\left[e^{tX}|N=n\\right] = \\mathbb{E}\\left[e^{t(X_1+X_2+\\ldots+X_n)}|N\\right] = \\prod_{k=1}^n\\mathbb{E}\\left[e^{tX_1}\\right] = M_1(t)^n = \\left( \\frac{\\lambda}{\\lambda - t} \\right)^n\n",
    "$$\n",
    "\n",
    "$$\n",
    "\\begin{aligned}\n",
    "M_X(t) & = \\mathbb{E}\\left[\\mathbb{E}\\left[e^{tX}|N\\right]\\right] = \\mathbb{E}\\left[M_(t)^N\\right] = \\\\\n",
    "& = \\sum_{n=1}^\\infty pq^{n-1} M_1(t)^n = \\frac{p}{q} \\sum_{n=1}^\\infty \\left( q M_1(t)\\right)^n = \\frac{p}{q} \\frac{q M_1(t)}{1 - q M_1(t)} = \\frac{p\\lambda}{p\\lambda - t}\n",
    "\\end{aligned}\n",
    "$$"
   ]
  },
  {
   "cell_type": "markdown",
   "id": "7c959848",
   "metadata": {
    "slideshow": {
     "slide_type": "slide"
    }
   },
   "source": [
    "## Problem 2\n",
    "\n",
    "Customers arrive at a store according to a Poisson process of rate $\\lambda$ customers per hour. Each makes a purchase with probability $p$, independently. Given that a customer makes a purchase, the amount spent has mean $\\mu$ (in dollars) and variance $\\sigma^2$.\n",
    "\n",
    "- Find the mean of how much a random customer spends (note that the customer may not make a purchase).\n",
    "- Find the mean of the revenue the store obtains in an 8-hour time interval, using previous subproblem."
   ]
  },
  {
   "cell_type": "markdown",
   "id": "6d59b4b9",
   "metadata": {
    "slideshow": {
     "slide_type": "slide"
    }
   },
   "source": [
    "## Solution 2.1\n",
    "\n",
    "Denote $P \\sim Be(p)$ the successful purchase, $S|P$ the price of purchase and $Z = PS$ the total spednings of a customer. Then,\n",
    "$$\n",
    "\\mathbb{E}[Z] = \\mathbb{E}\\left[\\mathbb{E}[Z|P]\\right]\n",
    "$$\n",
    "\n",
    "$$\n",
    "\\mathbb{E}[Z|P=p] = p S\n",
    "$$\n",
    "\n",
    "$$\n",
    "\\mathbb{E}[Z] = \\mathbb{E}\\left[\\mathbb{E}[Z|P]\\right] = \\mathbb{E}[PS] = \\mathbb{E}[P]\\mathbb[S] = p\\mu\n",
    "$$"
   ]
  },
  {
   "cell_type": "markdown",
   "id": "66696e3f",
   "metadata": {
    "slideshow": {
     "slide_type": "slide"
    }
   },
   "source": [
    "## Solution 2.2\n",
    "\n",
    "Denote $Y \\sim Pois(8 \\lambda)$ the number of customers that arrive to the store in 8-hour time interval and $R = YZ$ the revenue of the store. Then,\n",
    "$$\n",
    "\\mathbb{E}[R] = \\mathbb{E}\\left[\\mathbb{E}[R|Y]\\right]\n",
    "$$\n",
    "\n",
    "$$\n",
    "\\mathbb{E}[R|Y = y] = yp\\mu\n",
    "$$\n",
    "\n",
    "$$\n",
    "\\mathbb{E}[R] = \\mathbb{E}\\left[\\mathbb{E}[R|Y]\\right] = \\mathbb{E}[Y p \\mu] = 8 \\lambda p \\mu\n",
    "$$"
   ]
  },
  {
   "cell_type": "markdown",
   "id": "5cfc1589",
   "metadata": {
    "slideshow": {
     "slide_type": "slide"
    }
   },
   "source": [
    "# Inequalities"
   ]
  },
  {
   "cell_type": "markdown",
   "id": "4a6eb617",
   "metadata": {
    "slideshow": {
     "slide_type": "slide"
    }
   },
   "source": [
    "## Inequalities\n",
    "\n",
    "|Name|Conditions|Formula|Uses|\n",
    "|:---:|:---:|:---:|:---:|\n",
    "|Cauchy-Schwarz|\\begin{eqnarray}\\mathbb{E}[|X|]<\\infty, \\mathbb{E}[|Y|]<\\infty\\end{eqnarray}|\\begin{eqnarray}|\\mathbb{E}[XY]|\\leqslant\\sqrt{\\mathbb{E}[X]\\mathbb{E}[Y]}\\end{eqnarray}|Covariance|\n",
    "|Jensen|\\begin{eqnarray}\\mathbb{E}[|X|]<\\infty, x>0, g - \\text{convex}\\end{eqnarray}|\\begin{eqnarray}g(\\mathbb{E}[X])\\leqslant\\mathbb{E}[g(X)]\\end{eqnarray}|Proofs|\n",
    "|Markov|\\begin{eqnarray}\\mathbb{E}[|X|^p]<\\infty, p>0, x>0\\end{eqnarray}|\\begin{eqnarray}\\mathbb{P}(|X| \\geqslant x) \\leqslant \\frac{\\mathbb{E}[|X|^p]}{x^p}\\end{eqnarray}|Tails|\n",
    "|Chebyshev|\\begin{eqnarray}\\mathbb{V}\\text{ar}(X)<\\infty, x>0\\end{eqnarray}|\\begin{eqnarray}\\mathbb{P}(|X - \\mathbb{E}[X]| \\geqslant x) \\leqslant \\frac{\\mathbb{V}\\text{ar}(X)}{x^2}\\end{eqnarray}|Tails|\n",
    "|Chernoff|\\begin{eqnarray}\\mathbb{E}[e^{tX}]<\\infty,t>0,x>0\\end{eqnarray}|\\begin{eqnarray}\\mathbb{P}(X \\geqslant x) \\leqslant \\frac{\\mathbb{E}[e^{tX}]}{e^{tx}}\\end{eqnarray}|Tails|"
   ]
  },
  {
   "cell_type": "markdown",
   "id": "554886b3",
   "metadata": {
    "slideshow": {
     "slide_type": "slide"
    }
   },
   "source": [
    "## Example 1\n",
    "\n",
    "Let $Z \\sim \\mathcal{N}(0, 1)$. Find $\\mathbb{P}(|Z| > 3)$."
   ]
  },
  {
   "cell_type": "markdown",
   "id": "98dae5da",
   "metadata": {
    "slideshow": {
     "slide_type": "slide"
    }
   },
   "source": [
    "## Solution 1\n",
    "\n",
    "Three-sigma rule:\n",
    "$$\n",
    "\\mathbb{P}(|Z| > 3) \\approx 0.003\n",
    "$$"
   ]
  },
  {
   "cell_type": "markdown",
   "id": "043ffae9",
   "metadata": {
    "slideshow": {
     "slide_type": "fragment"
    }
   },
   "source": [
    "Markov:\n",
    "$$\n",
    "\\mathbb{P}(|Z| > 3) \\leqslant \\frac{\\mathbb{E}[Z]}{3} = \\frac{1}{3}\\sqrt{\\frac{2}{\\pi}} \\approx 0.27\n",
    "$$"
   ]
  },
  {
   "cell_type": "markdown",
   "id": "04d48ef8",
   "metadata": {
    "slideshow": {
     "slide_type": "slide"
    }
   },
   "source": [
    "Chebyshev:\n",
    "$$\n",
    "\\mathbb{P}(|Z| > 3) \\leqslant \\frac{\\mathbb{V}\\text{ar}(X)}{3^2} = \\frac19 \\approx 0.11\n",
    "$$"
   ]
  },
  {
   "cell_type": "markdown",
   "id": "fad57c3f",
   "metadata": {
    "slideshow": {
     "slide_type": "fragment"
    }
   },
   "source": [
    "Chernoff:\n",
    "$$\n",
    "\\mathbb{P}(|Z| > 3) = 2 \\mathbb{P}(Z > 3) \\leqslant 2 e^{-3t} \\mathbb{E}[e^{tZ}] = 2 e^{-3t} e^{t^2/2} \\to 0.022\n",
    "$$"
   ]
  },
  {
   "cell_type": "markdown",
   "id": "e80c99a2",
   "metadata": {
    "slideshow": {
     "slide_type": "slide"
    }
   },
   "source": [
    "## Problem 2\n",
    "\n",
    "For i.i.d. r.v.s $X_1,\\ldots,X_n$ with mean $\\mu$ and variance $\\sigma^2$, give a value of $n$ that will ensure that there is at least a 99\\% chance that the sample mean will be within 2 standard deviations of the true mean $\\mu$."
   ]
  },
  {
   "cell_type": "markdown",
   "id": "9a539ef2",
   "metadata": {
    "slideshow": {
     "slide_type": "slide"
    }
   },
   "source": [
    "## Solution 2\n",
    "\n",
    "$$\n",
    "\\mathbb{P}(|\\overline{X_n} - \\mu| > 2\\sigma) \\leqslant 0.01\n",
    "$$\n",
    "\n",
    "$$\n",
    "\\mathbb{P}(|\\overline{X_n} - \\mu| > 2\\sigma) \\leqslant \\frac{\\mathbb{V}\\text{ar}(\\overline{X_n})}{(2\\sigma)^2} = \\frac{\\sigma^2/n}{4\\sigma^2} = \\frac{1}{4n}\n",
    "$$"
   ]
  },
  {
   "cell_type": "markdown",
   "id": "8b5f954d",
   "metadata": {
    "slideshow": {
     "slide_type": "slide"
    }
   },
   "source": [
    "## Problem 3\n",
    "\n",
    "In a national survey, a random sample of people are chosen and asked whether they support a certain policy. Assume that everyone in the population is equally likely to be surveyed at each step, and that the sampling is with replacement (sampling without replacement is typically more realistic, but with replacement will be a good approximation if the sample size is small compared to the population size). Let $n$ be the sample size, and let $\\hat{p} and $p$ be the proportion of people who support the policy in the sample and in the entire population, respectively. Show that for every $c > 0$,\n",
    "$$\n",
    "\\mathbb{P}(|\\hat{p} - p| > c\\sigma) \\leqslant \\frac{1}{4nc^2}\n",
    "$$"
   ]
  },
  {
   "cell_type": "markdown",
   "id": "8fa5b773",
   "metadata": {
    "slideshow": {
     "slide_type": "slide"
    }
   },
   "source": [
    "## Solution 3\n",
    "\n",
    "Write Bernoulli, use Chebyshev"
   ]
  }
 ],
 "metadata": {
  "celltoolbar": "Slideshow",
  "kernelspec": {
   "display_name": "Python 3 (ipykernel)",
   "language": "python",
   "name": "python3"
  },
  "language_info": {
   "codemirror_mode": {
    "name": "ipython",
    "version": 3
   },
   "file_extension": ".py",
   "mimetype": "text/x-python",
   "name": "python",
   "nbconvert_exporter": "python",
   "pygments_lexer": "ipython3",
   "version": "3.8.9"
  }
 },
 "nbformat": 4,
 "nbformat_minor": 5
}
