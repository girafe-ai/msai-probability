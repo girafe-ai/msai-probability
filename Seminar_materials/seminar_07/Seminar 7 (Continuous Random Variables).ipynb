{
 "cells": [
  {
   "cell_type": "markdown",
   "id": "a8f7b639",
   "metadata": {
    "editable": true,
    "slideshow": {
     "slide_type": "slide"
    },
    "tags": []
   },
   "source": [
    "# Seminar 7"
   ]
  },
  {
   "cell_type": "markdown",
   "id": "7bb7a2e9",
   "metadata": {
    "editable": true,
    "slideshow": {
     "slide_type": "slide"
    },
    "tags": []
   },
   "source": [
    "## Recap of random variables\n",
    "\n",
    "A **random variable** is a function from sample space to the real numbers $X: S \\to \\mathbb{R}$."
   ]
  },
  {
   "cell_type": "markdown",
   "id": "concrete-petroleum",
   "metadata": {
    "editable": true,
    "slideshow": {
     "slide_type": "slide"
    },
    "tags": []
   },
   "source": [
    "## Recap of distributions\n",
    "\n",
    "For a random variable $X: S \\to \\mathbb{R}$, its distribution acts on numbers in $\\mathbb{R}$ in the same way as probability function $P$ acts on outcomes."
   ]
  },
  {
   "cell_type": "markdown",
   "id": "increasing-delaware",
   "metadata": {
    "editable": true,
    "slideshow": {
     "slide_type": "slide"
    },
    "tags": []
   },
   "source": [
    "## Recap of functions describing distributions\n",
    "\n",
    "- For any distribution we have **cumulative distribution function** (CDF) $F_X(x) = \\mathbb{P}(X \\leqslant x)$\n",
    "- For discrete distributions we have **probability mass function** (PMF) $\\mathbb{P}_X(x) = \\mathbb{P}(X = x)$"
   ]
  },
  {
   "cell_type": "markdown",
   "id": "printable-haiti",
   "metadata": {
    "editable": true,
    "slideshow": {
     "slide_type": "slide"
    },
    "tags": []
   },
   "source": [
    "## Probability density function\n",
    "\n",
    "- If $X$ has a discrete distribution, then $F_X$ has a countable number of jumps $p_i = \\mathbb{P}(X = x_i)$ and at $x = x_i$ it is continuous\n",
    "- If $X$ has absolutely continuous distribution, then $F_X$ is differentiable a.e. and can be recovered from its derivative:\n",
    "    $$\n",
    "    F_X(x) = \\int\\limits_{-\\infty}^x f_X(t) dt\n",
    "    $$\n",
    "    \n",
    "    where $f_X(t)$ is the probability density function and $f_X(t) = F'_X(x)$ a.e."
   ]
  },
  {
   "cell_type": "markdown",
   "id": "vocational-chinese",
   "metadata": {
    "editable": true,
    "slideshow": {
     "slide_type": "slide"
    },
    "tags": []
   },
   "source": [
    "## Example 1\n",
    "\n",
    "We say that random variable $X$ is distributed uniformly on $[a, b]$ and write $X \\sim U([a, b])$ if\n",
    "$$\n",
    "f_X(x) = \\begin{cases}\n",
    "\\frac{1}{b-a}, a \\leqslant x \\leqslant b, \\\\\n",
    "0, \\text{else}\n",
    "\\end{cases}\n",
    "$$\n",
    "\n",
    "What is $F_X(x)$?"
   ]
  },
  {
   "cell_type": "markdown",
   "id": "1214e30a-1cc4-41ea-974e-12e44e8b6716",
   "metadata": {
    "editable": true,
    "slideshow": {
     "slide_type": "fragment"
    },
    "tags": []
   },
   "source": [
    "$$\n",
    "F_X(x) = \\int\\limits_{-\\infty}^{x} \\frac{1}{b - a} {\\rm d} x = \\frac{1}{b - a} \\int\\limits_{a}^{x} {\\rm d} x = \\frac{x - a}{b - a}\n",
    "$$\n",
    "\n",
    "e.g. if $X \\sim U([0, 1])$, then $F_X(x) = x$."
   ]
  },
  {
   "cell_type": "markdown",
   "id": "adjusted-acrylic",
   "metadata": {
    "editable": true,
    "slideshow": {
     "slide_type": "slide"
    },
    "tags": []
   },
   "source": [
    "## Continuous convolution formula\n",
    "\n",
    "Consider $X$ and $Y$ independent random variables with PDFs $f_X$ and $f_Y$ respectively. Then, their sum $Z = X + Y$ has absolutely continuous distribution with density\n",
    "$$\n",
    "f_Z(z) = \\int f_X(x) f_Y(z-x) dx\n",
    "$$"
   ]
  },
  {
   "cell_type": "markdown",
   "id": "local-minnesota",
   "metadata": {
    "editable": true,
    "slideshow": {
     "slide_type": "slide"
    },
    "tags": []
   },
   "source": [
    "## Example 2\n",
    "\n",
    "Let $X, Y \\sim U([0, 1])$ and $Z = X + Y$. Find $f_Z(z)$."
   ]
  },
  {
   "cell_type": "markdown",
   "id": "wireless-commerce",
   "metadata": {
    "editable": true,
    "slideshow": {
     "slide_type": "slide"
    },
    "tags": []
   },
   "source": [
    "## Solution 2\n",
    "\n",
    "$$\n",
    "f_Z(z) = \\int\\limits_{0}^1 f_X(x) f_Y(z-x) dx = \\int\\limits_{0}^1 f_Y(z-x) dx = \\begin{cases}\n",
    "z, & 0 \\leqslant z \\leqslant 1, \\\\\n",
    "2 - z, & 1 \\leqslant z \\leqslant  2, \\\\\n",
    "0, & \\text{else}\n",
    "\\end{cases}\n",
    "$$"
   ]
  },
  {
   "cell_type": "markdown",
   "id": "95675940",
   "metadata": {
    "editable": true,
    "slideshow": {
     "slide_type": "slide"
    },
    "tags": []
   },
   "source": [
    "## Functions of continuous random variables\n",
    "\n",
    "Random variables transform like functions, i.e. if $Y = \\varphi(X)$, then $Y(\\omega) = \\varphi(X(\\omega))$.\n",
    "\n",
    "For a smooth $\\varphi$, the density will be:\n",
    "$$\n",
    "f_Y(y) = \\sum\\limits_{\\varphi(x) = y} \\frac{f_X(x)}{|\\varphi'(x)|}\n",
    "$$"
   ]
  },
  {
   "cell_type": "markdown",
   "id": "79501593-45f8-4864-82d6-d607ed7fd24d",
   "metadata": {
    "editable": true,
    "slideshow": {
     "slide_type": "slide"
    },
    "tags": []
   },
   "source": [
    "## LOTUS for continuous random variables\n",
    "\n",
    "If $X$ is a continuous r.v. with PDF $f_X(x)$ and $g(\\cdot)$ is a function, then,\n",
    "$$\n",
    "\\mathbb{E}[g(X)] = \\int g(x) f_X(x) {\\rm d} x\n",
    "$$"
   ]
  },
  {
   "cell_type": "markdown",
   "id": "alpine-motor",
   "metadata": {
    "editable": true,
    "slideshow": {
     "slide_type": "slide"
    },
    "tags": []
   },
   "source": [
    "## Example 3\n",
    "\n",
    "Let $X$ be a **normally distributed** random variable with parameters $m$ and $\\sigma^2$:\n",
    "$$\n",
    "f_X(x) = \\frac{1}{\\sqrt{2 \\pi \\sigma^2}} \\exp \\left( - \\frac{(x - m)^2}{2\\sigma^2} \\right)\n",
    "$$\n",
    "\n",
    "Find PDF of $Y = X^2$."
   ]
  },
  {
   "cell_type": "markdown",
   "id": "narrow-seven",
   "metadata": {
    "editable": true,
    "slideshow": {
     "slide_type": "slide"
    },
    "tags": []
   },
   "source": [
    "## Solution 3\n",
    "\n",
    "According to the formula,\n",
    "$$\n",
    "f_Y(y) = \\sum\\limits_{x^2 = y} \\frac{f_X(x)}{|\\varphi'(x)|} = \\sum\\limits_{x = \\pm \\sqrt{y}} \\frac{f_X(x)}{|2 x|} = \\frac{f_X(-\\sqrt{y}) + f_X(\\sqrt{y})}{2 \\sqrt{y}}\n",
    "$$"
   ]
  },
  {
   "cell_type": "markdown",
   "id": "9eb4d737",
   "metadata": {
    "editable": true,
    "slideshow": {
     "slide_type": "slide"
    },
    "tags": []
   },
   "source": [
    "## Recap of expectation\n",
    "\n",
    "- If $X$ is discrete, then\n",
    "    $$\n",
    "    \\mathbb{E}\\left[X\\right] = \\sum_k x_k \\mathbb{P}(X = x_k)\n",
    "    $$\n",
    "- If $X$ is continuous, then\n",
    "    $$\n",
    "    \\mathbb{E}\\left[X\\right] = \\int_{-\\infty}^{+\\infty} x f_X(x) dx\n",
    "    $$"
   ]
  },
  {
   "cell_type": "markdown",
   "id": "3d0c668e",
   "metadata": {
    "editable": true,
    "slideshow": {
     "slide_type": "slide"
    },
    "tags": []
   },
   "source": [
    "## Recap of variance\n",
    "\n",
    "We call **variance** the following quantity of a r.v. $X$ with finite expectation:\n",
    "$$\n",
    "\\mathbb{V}\\text{ar}(X) = \\mathbb{E}\\left[\\left(X - \\mathbb{E}[X]\\right)^2\\right]\n",
    "$$"
   ]
  },
  {
   "cell_type": "markdown",
   "id": "e3c846bd",
   "metadata": {
    "editable": true,
    "slideshow": {
     "slide_type": "slide"
    },
    "tags": []
   },
   "source": [
    "## Example 4\n",
    "\n",
    "Find the expectation and variance of uniform distribution. Draw its CDF and PDF."
   ]
  },
  {
   "cell_type": "markdown",
   "id": "8d720d76",
   "metadata": {
    "editable": true,
    "slideshow": {
     "slide_type": "slide"
    },
    "tags": []
   },
   "source": [
    "## Solution 4\n",
    "\n",
    "Let $X \\sim U[a, b]$, then $f_X(x) = \\frac{1}{b - a}$\n",
    "\n",
    "$$\n",
    "\\mathbb{E}\\left[X\\right] = \\int\\limits_a^b x  \\frac{1}{b - a} dx =  \\frac{1}{b - a} \\left( \\frac{b^2}{2} - \\frac{a^2}{2} \\right) = \\frac{a+b}{2}\n",
    "$$\n",
    "\n",
    "$$\n",
    "\\mathbb{E}\\left[X^2\\right] = \\int\\limits_a^b x^2  \\frac{1}{b - a} dx =  \\frac{1}{b - a} \\left( \\frac{b^3}{3} - \\frac{a^3}{3} \\right) = \\frac13 \\frac{b^3-a^3}{b-a}\n",
    "$$\n",
    "\n",
    "$$\n",
    "\\mathbb{V}\\text{ar}\\left(X\\right) = \\frac13 \\frac{b^3-a^3}{b-a} - \\frac14 (a+b)^2 = \\frac{(b-a)^2}{12}\n",
    "$$"
   ]
  },
  {
   "cell_type": "markdown",
   "id": "a91aa7b8-fc96-4d2e-a1d3-54585fc63ce4",
   "metadata": {
    "editable": true,
    "slideshow": {
     "slide_type": "slide"
    },
    "tags": []
   },
   "source": [
    "## Universality of Uniform distribution\n",
    "\n",
    "Let $X$ be an r.v. with CDF $F$. Find the distribution of r.v. $Y = F(X)$.\n",
    "\n",
    "$$\n",
    "F_Y(y) = \\mathbb{P}\\left(Y \\leqslant y\\right) = \\mathbb{P}\\left(F(X) \\leqslant y\\right) = \\mathbb{P}\\left(X \\leqslant F^{-1}(y)\\right)  = F(F^{-1}(y)) = y\n",
    "$$\n",
    "\n",
    "What does it mean about distribution of $Y$?,"
   ]
  },
  {
   "cell_type": "markdown",
   "id": "91f94c99-1101-44af-b499-f4b2b29374b5",
   "metadata": {
    "editable": true,
    "slideshow": {
     "slide_type": "fragment"
    },
    "tags": []
   },
   "source": [
    "It means $Y \\sim U([0, 1])$"
   ]
  },
  {
   "cell_type": "markdown",
   "id": "965368f4",
   "metadata": {
    "editable": true,
    "slideshow": {
     "slide_type": "slide"
    },
    "tags": []
   },
   "source": [
    "## Example 5\n",
    "\n",
    "Find the expectation and variance of normal distribution. Draw its CDF and PDF."
   ]
  },
  {
   "cell_type": "markdown",
   "id": "6f19bfc8",
   "metadata": {
    "editable": true,
    "slideshow": {
     "slide_type": "slide"
    },
    "tags": []
   },
   "source": [
    "## Solution 5\n",
    "\n",
    "$Z \\sim \\mathcal{N}(0,1)$ means it has PDF $\\varphi(z) = \\frac{1}{\\sqrt{2 \\pi}} e^{-z^2/2}$. To prove that it is correct PDF:\n",
    "\n",
    "$$\n",
    "\\left( \\int\\limits_{-\\infty}^\\infty \\varphi(x) dx\\right)\\left( \\int\\limits_{-\\infty}^\\infty \\varphi(y) dy\\right) = \\frac{1}{2\\pi} \\int\\limits_{-\\infty}^\\infty\\int\\limits_{-\\infty}^\\infty e^{-(x^2+y^2)} dxdy = \\frac{1}{2\\pi} \\int\\limits_0^\\infty \\int\\limits_0^{2\\pi} e^{-r^2} rdrd\\theta = \\int\\limits_0^\\infty e^{-t^2} dt = 1\n",
    "$$\n",
    "\n",
    "$$\n",
    "\\Phi(z) = \\frac{1}{\\sqrt{2\\pi}}\\int\\limits_{-\\infty}^z e^{-z^2/2} dz\n",
    "$$\n",
    "\n",
    "$$\n",
    "\\mathbb{E}\\left[Z^2\\right] =\\frac{1}{\\sqrt{2\\pi}} \\int\\limits_{-\\infty}^\\infty z^2 e^{-z^2/2} dz = \\frac{2}{\\sqrt{2\\pi}} \\int\\limits_0^\\infty z^2 e^{-z^2/2} dz = - \\frac{2}{\\sqrt{2\\pi}} \\left(\\left.ze^{-z^2/2}\\right|_0^\\infty - \\int\\limits_0^\\infty e^{-z^2/2} dz\\right) = 1\n",
    "$$"
   ]
  }
 ],
 "metadata": {
  "celltoolbar": "Slideshow",
  "kernelspec": {
   "display_name": "Python 3 (ipykernel)",
   "language": "python",
   "name": "python3"
  },
  "language_info": {
   "codemirror_mode": {
    "name": "ipython",
    "version": 3
   },
   "file_extension": ".py",
   "mimetype": "text/x-python",
   "name": "python",
   "nbconvert_exporter": "python",
   "pygments_lexer": "ipython3",
   "version": "3.12.0"
  }
 },
 "nbformat": 4,
 "nbformat_minor": 5
}
